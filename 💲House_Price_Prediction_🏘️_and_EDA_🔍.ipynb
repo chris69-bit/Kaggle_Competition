{
  "metadata": {
    "kernelspec": {
      "display_name": "Python 3",
      "language": "python",
      "name": "python3"
    },
    "language_info": {
      "name": "python",
      "version": "3.10.12",
      "mimetype": "text/x-python",
      "codemirror_mode": {
        "name": "ipython",
        "version": 3
      },
      "pygments_lexer": "ipython3",
      "nbconvert_exporter": "python",
      "file_extension": ".py"
    },
    "kaggle": {
      "accelerator": "none",
      "dataSources": [
        {
          "sourceId": 10211,
          "databundleVersionId": 111096,
          "sourceType": "competition"
        }
      ],
      "dockerImageVersionId": 30839,
      "isInternetEnabled": true,
      "language": "python",
      "sourceType": "notebook",
      "isGpuEnabled": false
    },
    "colab": {
      "name": "💲House Price Prediction 🏘️ and EDA 🔍",
      "provenance": [],
      "include_colab_link": true
    }
  },
  "nbformat_minor": 0,
  "nbformat": 4,
  "cells": [
    {
      "cell_type": "markdown",
      "metadata": {
        "id": "view-in-github",
        "colab_type": "text"
      },
      "source": [
        "<a href=\"https://colab.research.google.com/github/chris69-bit/Kaggle_Competition/blob/main/%F0%9F%92%B2House_Price_Prediction_%F0%9F%8F%98%EF%B8%8F_and_EDA_%F0%9F%94%8D.ipynb\" target=\"_parent\"><img src=\"https://colab.research.google.com/assets/colab-badge.svg\" alt=\"Open In Colab\"/></a>"
      ]
    },
    {
      "source": [
        "# IMPORTANT: SOME KAGGLE DATA SOURCES ARE PRIVATE\n",
        "# RUN THIS CELL IN ORDER TO IMPORT YOUR KAGGLE DATA SOURCES.\n",
        "import kagglehub\n",
        "kagglehub.login()"
      ],
      "metadata": {
        "id": "wpJmQDrwlI_-"
      },
      "cell_type": "code",
      "outputs": [],
      "execution_count": null
    },
    {
      "source": [
        "# IMPORTANT: RUN THIS CELL IN ORDER TO IMPORT YOUR KAGGLE DATA SOURCES,\n",
        "# THEN FEEL FREE TO DELETE THIS CELL.\n",
        "# NOTE: THIS NOTEBOOK ENVIRONMENT DIFFERS FROM KAGGLE'S PYTHON\n",
        "# ENVIRONMENT SO THERE MAY BE MISSING LIBRARIES USED BY YOUR\n",
        "# NOTEBOOK.\n",
        "\n",
        "home_data_for_ml_course_path = kagglehub.competition_download('home-data-for-ml-course')\n",
        "\n",
        "print('Data source import complete.')\n"
      ],
      "metadata": {
        "id": "4odRFKH5lJAB"
      },
      "cell_type": "code",
      "outputs": [],
      "execution_count": null
    },
    {
      "cell_type": "markdown",
      "source": [
        "# <strong> Import Library </strong>"
      ],
      "metadata": {
        "id": "fJ6spAXylJAC"
      }
    },
    {
      "cell_type": "code",
      "source": [
        "%%capture\n",
        "pip install lazypredict"
      ],
      "metadata": {
        "trusted": true,
        "execution": {
          "iopub.status.busy": "2025-01-29T06:38:54.102331Z",
          "iopub.execute_input": "2025-01-29T06:38:54.102792Z",
          "iopub.status.idle": "2025-01-29T06:38:58.327541Z",
          "shell.execute_reply.started": "2025-01-29T06:38:54.102758Z",
          "shell.execute_reply": "2025-01-29T06:38:58.326338Z"
        },
        "id": "6RW3DhColJAF"
      },
      "outputs": [],
      "execution_count": null
    },
    {
      "cell_type": "code",
      "source": [
        "import pandas as pd\n",
        "import numpy as np\n",
        "import missingno\n",
        "import seaborn as sns\n",
        "import matplotlib.pyplot as plt\n",
        "\n",
        "from sklearn.preprocessing import StandardScaler , PowerTransformer , RobustScaler\n",
        "from sklearn.decomposition import PCA\n",
        "from sklearn.model_selection import train_test_split , cross_val_score , KFold\n",
        "\n",
        "from lazypredict.Supervised import LazyRegressor\n",
        "import optuna\n",
        "from sklearn.linear_model import Ridge, Lasso, LinearRegression\n",
        "from sklearn.ensemble import  ExtraTreesRegressor , StackingRegressor , GradientBoostingRegressor\n",
        "\n",
        "import lightgbm\n",
        "import xgboost as xgb\n",
        "import catboost\n"
      ],
      "metadata": {
        "trusted": true,
        "execution": {
          "iopub.status.busy": "2025-01-29T06:38:58.329143Z",
          "iopub.execute_input": "2025-01-29T06:38:58.329521Z",
          "iopub.status.idle": "2025-01-29T06:39:01.289047Z",
          "shell.execute_reply.started": "2025-01-29T06:38:58.329474Z",
          "shell.execute_reply": "2025-01-29T06:39:01.287808Z"
        },
        "id": "l_mF0uGklJAG"
      },
      "outputs": [],
      "execution_count": null
    },
    {
      "cell_type": "code",
      "source": [
        "# DISPLAY ALL COLUMNS DATASET DATAFRAME\n",
        "pd.set_option('display.max_columns', None)"
      ],
      "metadata": {
        "trusted": true,
        "execution": {
          "iopub.status.busy": "2025-01-29T06:39:01.290688Z",
          "iopub.execute_input": "2025-01-29T06:39:01.291439Z",
          "iopub.status.idle": "2025-01-29T06:39:01.296453Z",
          "shell.execute_reply.started": "2025-01-29T06:39:01.291401Z",
          "shell.execute_reply": "2025-01-29T06:39:01.29523Z"
        },
        "id": "TZPG8InvlJAH"
      },
      "outputs": [],
      "execution_count": null
    },
    {
      "cell_type": "markdown",
      "source": [
        "# <strong> Load Dataset </strong>"
      ],
      "metadata": {
        "id": "0CMIkB9plJAI"
      }
    },
    {
      "cell_type": "code",
      "source": [
        "# LOAD DATAFRAME\n",
        "\n",
        "train_data = pd.read_table(r'/kaggle/input/home-data-for-ml-course/train.csv', sep=',')\n",
        "test_data  = pd.read_table(r'/kaggle/input/home-data-for-ml-course/test.csv', sep=',')\n",
        "\n",
        "print(f'Shape of Train data : {train_data.shape}')\n",
        "print(f'Shape of Test data  : {test_data.shape}')"
      ],
      "metadata": {
        "trusted": true,
        "execution": {
          "iopub.status.busy": "2025-01-29T06:39:01.298349Z",
          "iopub.execute_input": "2025-01-29T06:39:01.298844Z",
          "iopub.status.idle": "2025-01-29T06:39:01.388519Z",
          "shell.execute_reply.started": "2025-01-29T06:39:01.298801Z",
          "shell.execute_reply": "2025-01-29T06:39:01.387342Z"
        },
        "id": "m3vYaaXKlJAK"
      },
      "outputs": [],
      "execution_count": null
    },
    {
      "cell_type": "code",
      "source": [
        "# DISPLAY TRAIN DATA\n",
        "\n",
        "train_data.head(5)"
      ],
      "metadata": {
        "trusted": true,
        "execution": {
          "iopub.status.busy": "2025-01-29T06:39:01.389718Z",
          "iopub.execute_input": "2025-01-29T06:39:01.390022Z",
          "iopub.status.idle": "2025-01-29T06:39:01.443023Z",
          "shell.execute_reply.started": "2025-01-29T06:39:01.389996Z",
          "shell.execute_reply": "2025-01-29T06:39:01.442113Z"
        },
        "id": "ls2HbLjjlJAL"
      },
      "outputs": [],
      "execution_count": null
    },
    {
      "cell_type": "code",
      "source": [
        "test_data.head(5)"
      ],
      "metadata": {
        "trusted": true,
        "execution": {
          "iopub.status.busy": "2025-01-29T06:39:01.443854Z",
          "iopub.execute_input": "2025-01-29T06:39:01.444112Z",
          "iopub.status.idle": "2025-01-29T06:39:01.485631Z",
          "shell.execute_reply.started": "2025-01-29T06:39:01.44409Z",
          "shell.execute_reply": "2025-01-29T06:39:01.484451Z"
        },
        "id": "uInA3OaElJAM"
      },
      "outputs": [],
      "execution_count": null
    },
    {
      "cell_type": "markdown",
      "source": [
        "## Combine Train and Test Data"
      ],
      "metadata": {
        "id": "t4nwbEqPlJAO"
      }
    },
    {
      "cell_type": "code",
      "source": [
        "combined_data = pd.concat((train_data, test_data), axis=0)\n",
        "\n",
        "combined_data"
      ],
      "metadata": {
        "trusted": true,
        "execution": {
          "iopub.status.busy": "2025-01-29T06:39:01.486618Z",
          "iopub.execute_input": "2025-01-29T06:39:01.486952Z",
          "iopub.status.idle": "2025-01-29T06:39:01.558753Z",
          "shell.execute_reply.started": "2025-01-29T06:39:01.486925Z",
          "shell.execute_reply": "2025-01-29T06:39:01.557399Z"
        },
        "id": "569FUZpclJAO"
      },
      "outputs": [],
      "execution_count": null
    },
    {
      "cell_type": "markdown",
      "source": [
        "# <strong> Exploratory Data Analysis (EDA) </strong>"
      ],
      "metadata": {
        "id": "amm04nAnlJAP"
      }
    },
    {
      "cell_type": "markdown",
      "source": [
        "## Check Information"
      ],
      "metadata": {
        "id": "IAb7AXUClJAP"
      }
    },
    {
      "cell_type": "code",
      "source": [
        "train_data.info()"
      ],
      "metadata": {
        "trusted": true,
        "execution": {
          "iopub.status.busy": "2025-01-29T06:39:01.562299Z",
          "iopub.execute_input": "2025-01-29T06:39:01.562642Z",
          "iopub.status.idle": "2025-01-29T06:39:01.592387Z",
          "shell.execute_reply.started": "2025-01-29T06:39:01.562612Z",
          "shell.execute_reply": "2025-01-29T06:39:01.591221Z"
        },
        "id": "fW621OwUlJAQ"
      },
      "outputs": [],
      "execution_count": null
    },
    {
      "cell_type": "code",
      "source": [
        "test_data.info()"
      ],
      "metadata": {
        "trusted": true,
        "execution": {
          "iopub.status.busy": "2025-01-29T06:39:01.594108Z",
          "iopub.execute_input": "2025-01-29T06:39:01.594446Z",
          "iopub.status.idle": "2025-01-29T06:39:01.613069Z",
          "shell.execute_reply.started": "2025-01-29T06:39:01.594418Z",
          "shell.execute_reply": "2025-01-29T06:39:01.612042Z"
        },
        "id": "Jx6_SHGklJAQ"
      },
      "outputs": [],
      "execution_count": null
    },
    {
      "cell_type": "markdown",
      "source": [
        "## Check Null Values"
      ],
      "metadata": {
        "id": "1sthiABdlJAR"
      }
    },
    {
      "cell_type": "code",
      "source": [
        "# NULL VALUES COMPARISON\n",
        "\n",
        "train_null = train_data.isna().sum()\n",
        "train_null.drop(labels='SalePrice', axis=0, inplace=True)\n",
        "\n",
        "test_null  = test_data.isna().sum()\n",
        "\n",
        "train_null.compare(test_null).sort_values(by='self', ascending=False)"
      ],
      "metadata": {
        "trusted": true,
        "execution": {
          "iopub.status.busy": "2025-01-29T06:39:01.614254Z",
          "iopub.execute_input": "2025-01-29T06:39:01.614689Z",
          "iopub.status.idle": "2025-01-29T06:39:01.650062Z",
          "shell.execute_reply.started": "2025-01-29T06:39:01.614649Z",
          "shell.execute_reply": "2025-01-29T06:39:01.648889Z"
        },
        "id": "7KKkutqulJAR"
      },
      "outputs": [],
      "execution_count": null
    },
    {
      "cell_type": "markdown",
      "source": [
        "There are features with many null values ​​and there are also those with only a few null values."
      ],
      "metadata": {
        "id": "L5k2UCr2lJAS"
      }
    },
    {
      "cell_type": "markdown",
      "source": [
        "for numeric features, I will try to fill with 0 value"
      ],
      "metadata": {
        "id": "f10S67PSlJAT"
      }
    },
    {
      "cell_type": "markdown",
      "source": [
        "features with few null values, such as Electrical, MsZoning, Functional, KitchenQual, Exterior2nd, Exterior1st, Utilities, SaleType will be handled with mode values , the rest I will replace with the label 'unknown'."
      ],
      "metadata": {
        "id": "8cd8TII9lJAT"
      }
    },
    {
      "cell_type": "code",
      "source": [
        "# PERCENTAGE OF MISSING VALUES\n",
        "\n",
        "# CONVERT TO DATAFRAME\n",
        "missing_value = pd.DataFrame(data=train_data.isna().sum(), index=train_data.columns, columns=['missing'])\n",
        "\n",
        "# ADD 'PERCENTAGE' COLUMN\n",
        "missing_value['Percentage'] = (missing_value['missing'] / 1460) * 100\n",
        "\n",
        "# SORT BY DESCENDING\n",
        "missing_value = missing_value.sort_values(by='Percentage',ascending=False)\n",
        "\n",
        "missing_value.head(20)"
      ],
      "metadata": {
        "trusted": true,
        "execution": {
          "iopub.status.busy": "2025-01-29T06:39:01.651271Z",
          "iopub.execute_input": "2025-01-29T06:39:01.651732Z",
          "iopub.status.idle": "2025-01-29T06:39:01.670056Z",
          "shell.execute_reply.started": "2025-01-29T06:39:01.651686Z",
          "shell.execute_reply": "2025-01-29T06:39:01.66899Z"
        },
        "id": "lqN0fgeKlJAU"
      },
      "outputs": [],
      "execution_count": null
    },
    {
      "cell_type": "markdown",
      "source": [
        "we can see here, features like PoolQC, Alley, Fence, FireplaceQU, LotFrontage almost all rows are null. we can delete them later"
      ],
      "metadata": {
        "id": "V7l99I8ElJAU"
      }
    },
    {
      "cell_type": "code",
      "source": [
        "# VISUALIZE MISSING VALUES\n",
        "\n",
        "missingno.matrix(df= train_data) , missingno.matrix(df= test_data)"
      ],
      "metadata": {
        "trusted": true,
        "execution": {
          "iopub.status.busy": "2025-01-29T06:39:01.671125Z",
          "iopub.execute_input": "2025-01-29T06:39:01.67144Z",
          "iopub.status.idle": "2025-01-29T06:39:02.983692Z",
          "shell.execute_reply.started": "2025-01-29T06:39:01.671413Z",
          "shell.execute_reply": "2025-01-29T06:39:02.982512Z"
        },
        "id": "OEl8HGGNlJAV"
      },
      "outputs": [],
      "execution_count": null
    },
    {
      "cell_type": "code",
      "source": [
        "# VISUALIZE NULL VALUES WITH HEATMAP\n",
        "\n",
        "missingno.heatmap(df= train_data) , missingno.heatmap(df= test_data)"
      ],
      "metadata": {
        "trusted": true,
        "execution": {
          "iopub.status.busy": "2025-01-29T06:39:02.984898Z",
          "iopub.execute_input": "2025-01-29T06:39:02.98524Z",
          "iopub.status.idle": "2025-01-29T06:39:05.719408Z",
          "shell.execute_reply.started": "2025-01-29T06:39:02.98519Z",
          "shell.execute_reply": "2025-01-29T06:39:05.718217Z"
        },
        "id": "403MCLu3lJAV"
      },
      "outputs": [],
      "execution_count": null
    },
    {
      "cell_type": "markdown",
      "source": [
        "seen in the heatmap, a value close to 1 indicates that if one feature has a missing value, the other features also tend to have a missing value."
      ],
      "metadata": {
        "id": "IpaB0g3mlJAV"
      }
    },
    {
      "cell_type": "markdown",
      "source": [
        "## Check Distribution Data"
      ],
      "metadata": {
        "id": "nA4zpEFZlJAW"
      }
    },
    {
      "cell_type": "markdown",
      "source": [
        "First, we separate the columns that are categorical and numeric."
      ],
      "metadata": {
        "id": "JBc7yPrklJAW"
      }
    },
    {
      "cell_type": "code",
      "source": [
        "# SEPARATE FEATURE INTO 3 TYPES OF VARIABLE\n",
        "\n",
        "categorical_feature = train_data.select_dtypes(include='object').columns.tolist()\n",
        "\n",
        "numerical_feature   = train_data.select_dtypes(include=['int64', 'float64']).columns.tolist()\n",
        "numerical_feature   = [col for col in numerical_feature if col != 'Id' and col != 'SalePrice']\n",
        "\n",
        "discrete_feature    = [col for col in numerical_feature if len(train_data[col].unique()) < 25]\n",
        "continuous_feature  = [col for col in numerical_feature if col not in discrete_feature]\n",
        "\n",
        "print(f'Number of Categorical Feature : {len(categorical_feature)}')\n",
        "print(f'Number of Numerical Feature   : {len(numerical_feature)}')\n",
        "print(f'Number of Discrete Feature    : {len(discrete_feature)}')\n",
        "print(f'Number of Continous Feature   : {len(continuous_feature)}')"
      ],
      "metadata": {
        "trusted": true,
        "execution": {
          "iopub.status.busy": "2025-01-29T06:39:05.720559Z",
          "iopub.execute_input": "2025-01-29T06:39:05.720911Z",
          "iopub.status.idle": "2025-01-29T06:39:05.734217Z",
          "shell.execute_reply.started": "2025-01-29T06:39:05.720882Z",
          "shell.execute_reply": "2025-01-29T06:39:05.733319Z"
        },
        "id": "AzcTSlpDlJAW"
      },
      "outputs": [],
      "execution_count": null
    },
    {
      "cell_type": "markdown",
      "source": [
        "### Comparison Categorical Feature"
      ],
      "metadata": {
        "id": "WDna27PzlJAX"
      }
    },
    {
      "cell_type": "code",
      "source": [
        "# VISUALIZE DISTRIBUTION OF CATEGORICAL FEATURE\n",
        "\n",
        "fig , axes = plt.subplots(nrows= 9, ncols=5, figsize=(30,30))\n",
        "\n",
        "for i, feature in enumerate(categorical_feature):\n",
        "    sns.histplot(data= train_data, x=feature, ax=axes[i%9, i//9], color='purple')   # DISTRIBUTION FOR TRAIN DATA\n",
        "    sns.histplot(data= test_data, x=feature, ax=axes[i%9, i//9], color='lightgreen')  # DISTRIBUTION FOR TEST DATA"
      ],
      "metadata": {
        "trusted": true,
        "execution": {
          "iopub.status.busy": "2025-01-29T06:39:05.7354Z",
          "iopub.execute_input": "2025-01-29T06:39:05.735862Z",
          "iopub.status.idle": "2025-01-29T06:39:14.489577Z",
          "shell.execute_reply.started": "2025-01-29T06:39:05.73583Z",
          "shell.execute_reply": "2025-01-29T06:39:14.488228Z"
        },
        "id": "BGovEKfUlJAX"
      },
      "outputs": [],
      "execution_count": null
    },
    {
      "cell_type": "markdown",
      "source": [
        "The data distribution between training data and test data is almost the same, except for PoolQC"
      ],
      "metadata": {
        "id": "X6LFSb-dlJAY"
      }
    },
    {
      "cell_type": "markdown",
      "source": [
        "Some Feature have Dominants Label ,So we drop features that are only dominated by 1 label, such as RoofMatl, Street, GarageCond, Condition2, Utilities, Heating."
      ],
      "metadata": {
        "id": "lqn9dk-FlJAY"
      }
    },
    {
      "cell_type": "markdown",
      "source": [
        "### Comparison Discrete Feature"
      ],
      "metadata": {
        "id": "TLnvEqhYlJAY"
      }
    },
    {
      "cell_type": "code",
      "source": [
        "# VISUALIZE DISTRIBUTION OF DISCRETE FEATURE\n",
        "\n",
        "fig , axes = plt.subplots(nrows=3, ncols=6, figsize=(20,10))\n",
        "\n",
        "for i , feature in enumerate(discrete_feature):\n",
        "    sns.histplot(data= train_data, x= feature, ax=axes[i%3, i//3], color='blue')\n",
        "    sns.histplot(data= test_data,  x= feature, ax=axes[i%3, i//3], color='orange')\n",
        "\n",
        "plt.show()"
      ],
      "metadata": {
        "trusted": true,
        "execution": {
          "iopub.status.busy": "2025-01-29T06:39:14.490815Z",
          "iopub.execute_input": "2025-01-29T06:39:14.491225Z",
          "iopub.status.idle": "2025-01-29T06:39:18.446775Z",
          "shell.execute_reply.started": "2025-01-29T06:39:14.491189Z",
          "shell.execute_reply": "2025-01-29T06:39:18.445633Z"
        },
        "id": "-N6tO8jZlJAZ"
      },
      "outputs": [],
      "execution_count": null
    },
    {
      "cell_type": "markdown",
      "source": [
        "some features are dominated by 0 values, such as LowQualFinSF, MiscVal, 3SsnPorch, PoolArea. I will drop those columns"
      ],
      "metadata": {
        "id": "I3hHorkllJAZ"
      }
    },
    {
      "cell_type": "markdown",
      "source": [
        "### Comparison Continuous Feature"
      ],
      "metadata": {
        "id": "wVdx9xehlJAZ"
      }
    },
    {
      "cell_type": "code",
      "source": [
        "# VISUALIZATION DISTRIBUTION OF CONTINUOUS FEATURE\n",
        "\n",
        "fig , axes = plt.subplots(nrows=4, ncols=5, figsize=(20,15))\n",
        "\n",
        "for i, feature in enumerate(continuous_feature):\n",
        "    sns.histplot(data= train_data, x=feature, ax=axes[i%4, i//4], color='darkblue')\n",
        "    sns.histplot(data= test_data,  x=feature, ax=axes[i%4,i//4],  color='gold')\n",
        "\n",
        "plt.show()"
      ],
      "metadata": {
        "trusted": true,
        "execution": {
          "iopub.status.busy": "2025-01-29T06:39:18.447896Z",
          "iopub.execute_input": "2025-01-29T06:39:18.448183Z",
          "iopub.status.idle": "2025-01-29T06:39:24.018892Z",
          "shell.execute_reply.started": "2025-01-29T06:39:18.44816Z",
          "shell.execute_reply": "2025-01-29T06:39:24.017738Z"
        },
        "id": "ieRQ0GzilJAa"
      },
      "outputs": [],
      "execution_count": null
    },
    {
      "cell_type": "markdown",
      "source": [
        "some features have a negative skewed distribution"
      ],
      "metadata": {
        "id": "7JGGMRValJAa"
      }
    },
    {
      "cell_type": "markdown",
      "source": [
        "let's calculate how skew it is"
      ],
      "metadata": {
        "id": "kCWz53G6lJAj"
      }
    },
    {
      "cell_type": "code",
      "source": [
        "# CALCULATE HOW SKEW IT IS\n",
        "\n",
        "skewness_train = train_data[numerical_feature].skew().sort_values(ascending=False)\n",
        "skewness_test  = test_data[numerical_feature].skew().sort_values(ascending=False)\n",
        "\n",
        "avg_skewness = (skewness_train + skewness_test) / 2\n",
        "avg_skewness = avg_skewness.sort_values(ascending=False)\n",
        "\n",
        "print(avg_skewness)"
      ],
      "metadata": {
        "trusted": true,
        "execution": {
          "iopub.status.busy": "2025-01-29T06:39:24.020106Z",
          "iopub.execute_input": "2025-01-29T06:39:24.020432Z",
          "iopub.status.idle": "2025-01-29T06:39:24.049002Z",
          "shell.execute_reply.started": "2025-01-29T06:39:24.020402Z",
          "shell.execute_reply": "2025-01-29T06:39:24.047764Z"
        },
        "id": "yLmSGFMXlJAk"
      },
      "outputs": [],
      "execution_count": null
    },
    {
      "cell_type": "markdown",
      "source": [
        "any skew value is more than 1 or -1 we will do Transformation"
      ],
      "metadata": {
        "id": "Qg4u01KglJAl"
      }
    },
    {
      "cell_type": "markdown",
      "source": [
        "ok now lets check SalePrice distribution"
      ],
      "metadata": {
        "id": "I5Vi9jo7lJAl"
      }
    },
    {
      "cell_type": "code",
      "source": [
        "# SALEPRICE DISTRIBUTION\n",
        "\n",
        "sns.histplot(data=train_data, x='SalePrice')"
      ],
      "metadata": {
        "trusted": true,
        "execution": {
          "iopub.status.busy": "2025-01-29T06:39:24.050102Z",
          "iopub.execute_input": "2025-01-29T06:39:24.05051Z",
          "iopub.status.idle": "2025-01-29T06:39:24.366343Z",
          "shell.execute_reply.started": "2025-01-29T06:39:24.050472Z",
          "shell.execute_reply": "2025-01-29T06:39:24.365029Z"
        },
        "id": "9HLDZMA5lJAm"
      },
      "outputs": [],
      "execution_count": null
    },
    {
      "cell_type": "markdown",
      "source": [
        "The distribution of 'SalePrice' shows negative skewness, so we will do a log transformation later."
      ],
      "metadata": {
        "id": "Rz1APc_ulJAm"
      }
    },
    {
      "cell_type": "markdown",
      "source": [
        "## Correlation Comparison"
      ],
      "metadata": {
        "id": "LHcbHYQSlJAn"
      }
    },
    {
      "cell_type": "code",
      "source": [
        "# CHECK CORRELATION EVERY FEATURE\n",
        "\n",
        "# SET NUMERIC FEATURE\n",
        "numeric_data = pd.DataFrame()\n",
        "\n",
        "for feature in numerical_feature:\n",
        "    numeric_data[feature] = train_data[feature]\n",
        "\n",
        "corr_data = numeric_data.corr(method='pearson')\n",
        "\n",
        "plt.figure(figsize=(30,30))\n",
        "sns.heatmap(data= corr_data, cmap='coolwarm', annot=True, fmt='.2g')"
      ],
      "metadata": {
        "trusted": true,
        "execution": {
          "iopub.status.busy": "2025-01-29T06:39:24.367645Z",
          "iopub.execute_input": "2025-01-29T06:39:24.36798Z",
          "iopub.status.idle": "2025-01-29T06:39:28.905788Z",
          "shell.execute_reply.started": "2025-01-29T06:39:24.367949Z",
          "shell.execute_reply": "2025-01-29T06:39:28.904409Z"
        },
        "id": "Di4-VMl-lJAo"
      },
      "outputs": [],
      "execution_count": null
    },
    {
      "cell_type": "markdown",
      "source": [
        "conclusion of correlation:\n",
        "\n",
        "1. There is a strong correlation between:\n",
        "    - GarageArea and GarageCars.\n",
        "    - 1stFlrSF and TotalBsmtSF.\n",
        "    - GrLivArea and TotRmsAbvGrd.\n",
        "\n",
        "we can consider removing one of them or using PCA to select the most important features\n",
        "\n",
        "2. create new features such as:\n",
        "    - df['GarageEfficiency'] = df['GarageArea'] / df['GarageCars']\n",
        "    - df['LivabilityScore'] = df['GrLivArea'] + (df['FullBath'] * 2) + (df['HalfBath'])"
      ],
      "metadata": {
        "id": "3j1QNRC9lJAo"
      }
    },
    {
      "cell_type": "markdown",
      "source": [
        "OK, next we check the correlation with the target features."
      ],
      "metadata": {
        "id": "BCO-5PNDlJAp"
      }
    },
    {
      "cell_type": "code",
      "source": [
        "# CORRELATION WITH SALEPRICE\n",
        "\n",
        "numeric_data['SalePrice'] = train_data['SalePrice']  # ADD SALEPRICE COLUMN\n",
        "\n",
        "corr_data = numeric_data.corr(method='pearson')\n",
        "corr_data = corr_data[['SalePrice']]          # ONLY SHOWS CORRELATION FOR SALEPRICE FEATURE\n",
        "\n",
        "\n",
        "plt.figure(figsize=(7,10))\n",
        "sns.heatmap(data=corr_data, cmap='coolwarm', annot=True, fmt='.2g')"
      ],
      "metadata": {
        "trusted": true,
        "execution": {
          "iopub.status.busy": "2025-01-29T06:39:28.907011Z",
          "iopub.execute_input": "2025-01-29T06:39:28.907498Z",
          "iopub.status.idle": "2025-01-29T06:39:29.514711Z",
          "shell.execute_reply.started": "2025-01-29T06:39:28.907434Z",
          "shell.execute_reply": "2025-01-29T06:39:29.51347Z"
        },
        "id": "f9jLt2L9lJAq"
      },
      "outputs": [],
      "execution_count": null
    },
    {
      "cell_type": "markdown",
      "source": [
        "1. Highly correlated variables with SalePrice(positive, >0.5):\n",
        "\n",
        "    - OverallQual (0.79) <br>\n",
        "    - GrLivArea (0.71)  <br>\n",
        "    - GarageCars (0.64) <br>\n",
        "    - 1stFlrSF (0.61)   <br>\n",
        "    - TotalBsmtSF (0.61) <br>\n",
        "These variables are strong candidates for inclusion in the model because they provide significant information to predict home price. <br> <br>\n",
        "\n",
        "2. Moderate correlations with SalePrice(0.3–0.5):\n",
        "\n",
        "    - YearBuilt (0.52) <br>\n",
        "    - YearRemodAdd (0.51) <br>\n",
        "    - FullBath (0.56)  <br>\n",
        "    - Fireplaces (0.47) <br>\n",
        "    - TotRmsAbvGrd (0.53) <br>\n",
        "    - MasVnrArea (0.48) <br>\n",
        "\n",
        "These variables provide additional information that can help the model improve prediction accuracy, but are not as strong as the highly correlated variables. <br> <br>\n",
        "\n",
        "3. create new feature TotalArea = GrLivArea + TotalBsmtSF: Adds the area of ​​living space and basement."
      ],
      "metadata": {
        "id": "misLalC_lJAq"
      }
    },
    {
      "cell_type": "markdown",
      "source": [
        "ok now check the linearity of the feature against saleprice"
      ],
      "metadata": {
        "id": "9wgoeZZzlJAr"
      }
    },
    {
      "cell_type": "code",
      "source": [
        "# LINEARITY USING SCATTER PLOT\n",
        "\n",
        "fig , axes = plt.subplots(nrows=7, ncols=6, figsize=(37,25))\n",
        "\n",
        "for i , feature in enumerate(numerical_feature):\n",
        "    sns.regplot(data= train_data, x= feature, y= 'SalePrice', ax= axes[i%7, i//7])\n",
        "\n",
        "plt.show()"
      ],
      "metadata": {
        "trusted": true,
        "execution": {
          "iopub.status.busy": "2025-01-29T06:39:29.51566Z",
          "iopub.execute_input": "2025-01-29T06:39:29.515956Z",
          "iopub.status.idle": "2025-01-29T06:39:41.467406Z",
          "shell.execute_reply.started": "2025-01-29T06:39:29.515933Z",
          "shell.execute_reply": "2025-01-29T06:39:41.466162Z"
        },
        "id": "BsQr76bnlJAr"
      },
      "outputs": [],
      "execution_count": null
    },
    {
      "cell_type": "markdown",
      "source": [
        "\n",
        "From the data above, there are non-linear relationships such as: <br>\n",
        "GrLivArea and SalePrice,  <br>\n",
        "BsmtFinSF1 and SalePrice, <br>\n",
        "TotalBsmtSF and SalePrice, <br>\n",
        "LotFrontage and SalePrice, <br>\n",
        "LotArea and SalePrice,     <br>\n",
        "GarageArea and SalePrice   <br>\n"
      ],
      "metadata": {
        "id": "TpAc6UDvlJAs"
      }
    },
    {
      "cell_type": "markdown",
      "source": [
        "ok next check is there any relation between Yrsold and SalePrice"
      ],
      "metadata": {
        "id": "yveynfDKlJAs"
      }
    },
    {
      "cell_type": "code",
      "source": [
        "combined_data.groupby('YrSold')['SalePrice'].median().plot()\n",
        "plt.xlabel('Year Sold')\n",
        "plt.ylabel('House Price')\n",
        "plt.title('House price vs YearSold')"
      ],
      "metadata": {
        "trusted": true,
        "execution": {
          "iopub.status.busy": "2025-01-29T06:39:41.473286Z",
          "iopub.execute_input": "2025-01-29T06:39:41.473742Z",
          "iopub.status.idle": "2025-01-29T06:39:41.798297Z",
          "shell.execute_reply.started": "2025-01-29T06:39:41.473698Z",
          "shell.execute_reply": "2025-01-29T06:39:41.796997Z"
        },
        "id": "-0PXCKVylJAt"
      },
      "outputs": [],
      "execution_count": null
    },
    {
      "cell_type": "markdown",
      "source": [
        "There is a negative correlation between YrSold and SalePrice. This means that YrSold has an effect on SalePrice."
      ],
      "metadata": {
        "id": "vPQ_I-hylJAu"
      }
    },
    {
      "cell_type": "markdown",
      "source": [
        "# <strong> Feature Engineering </strong>"
      ],
      "metadata": {
        "id": "J1K2OnXOlJAu"
      }
    },
    {
      "cell_type": "markdown",
      "source": [
        "## Drop Columns"
      ],
      "metadata": {
        "id": "3zUxyMyXlJAv"
      }
    },
    {
      "cell_type": "code",
      "source": [
        "\n",
        "# FIRST DROP COLUMNS WITH MANY NULL VALUES\n",
        "cols_with_many_null = ['PoolQC', 'Alley', 'Fence', 'FireplaceQu', 'LotFrontage']\n",
        "combined_data.drop(labels=cols_with_many_null, axis=1, inplace=True)\n",
        "\n",
        "# NEXT DROP COLUMNS WITH MANY ZERO VALUES\n",
        "cols_with_many_zero = ['LowQualFinSF', 'MiscVal', '3SsnPorch', 'PoolArea']\n",
        "combined_data.drop(labels=cols_with_many_zero, axis=1, inplace=True)\n",
        "\n",
        "# LAST DROP COLUMNS WITH DOMINANT 1 LABEL\n",
        "cols_with_dominant_label = ['Id','RoofMatl', 'Street', 'Condition2', 'Utilities', 'Heating']\n",
        "combined_data.drop(labels=cols_with_dominant_label, axis=1, inplace=True)\n",
        "\n",
        "combined_data.columns  , len(combined_data.columns)   # CHECK FINAL COLUMNS AFTER DROPPED"
      ],
      "metadata": {
        "trusted": true,
        "execution": {
          "iopub.status.busy": "2025-01-29T06:39:41.801709Z",
          "iopub.execute_input": "2025-01-29T06:39:41.802043Z",
          "iopub.status.idle": "2025-01-29T06:39:41.81997Z",
          "shell.execute_reply.started": "2025-01-29T06:39:41.802013Z",
          "shell.execute_reply": "2025-01-29T06:39:41.818944Z"
        },
        "id": "UpVBfLEFlJAv"
      },
      "outputs": [],
      "execution_count": null
    },
    {
      "cell_type": "markdown",
      "source": [
        "## Temporal Variable"
      ],
      "metadata": {
        "id": "qxxS4qPNlJAw"
      }
    },
    {
      "cell_type": "markdown",
      "source": [
        "Calculating the age of the building, renovations, and year of construction of the garage based on the year of sale"
      ],
      "metadata": {
        "id": "XPGGRaiElJAw"
      }
    },
    {
      "cell_type": "code",
      "source": [
        "# FIND ALL DATE FEATURE\n",
        "year_feature = ['YearBuilt', 'YearRemodAdd', 'GarageYrBlt']\n",
        "\n",
        "for feature in year_feature:\n",
        "    combined_data[feature] = combined_data['YrSold'] - combined_data[feature]\n",
        "\n",
        "combined_data[year_feature].head(5)"
      ],
      "metadata": {
        "trusted": true,
        "execution": {
          "iopub.status.busy": "2025-01-29T06:39:41.821101Z",
          "iopub.execute_input": "2025-01-29T06:39:41.821415Z",
          "iopub.status.idle": "2025-01-29T06:39:41.847145Z",
          "shell.execute_reply.started": "2025-01-29T06:39:41.821389Z",
          "shell.execute_reply": "2025-01-29T06:39:41.846113Z"
        },
        "id": "C4zRw-g8lJAx"
      },
      "outputs": [],
      "execution_count": null
    },
    {
      "cell_type": "markdown",
      "source": [
        "## Fill Missing Values"
      ],
      "metadata": {
        "id": "A_DVeqNglJAx"
      }
    },
    {
      "cell_type": "code",
      "source": [
        "# FILL NUMERICAL MISSING VALUES WITH ZERO VALUES\n",
        "numerical_feature = combined_data.select_dtypes(include=['int64', 'float64']).columns.tolist()\n",
        "for feature in numerical_feature:\n",
        "    combined_data[feature] = combined_data[feature].fillna(0)\n",
        "\n",
        "# FILL CONTINUOUS MISSING VALUES\n",
        "dropped_cols = cols_with_dominant_label + cols_with_many_null\n",
        "mode_feature = ['Electrical', 'MsZoning', 'Functional', 'KitchenQual', 'Exterior2nd', 'Exterior1st', 'Utilities', 'SaleType']\n",
        "\n",
        "\n",
        "for feature in categorical_feature:\n",
        "    if feature not in dropped_cols:\n",
        "        if feature not in mode_feature:\n",
        "            combined_data[feature] = combined_data[feature].fillna('Unknown')\n",
        "        else:\n",
        "            combined_data[feature] = combined_data[feature].fillna(combined_data[feature].mode()[0])"
      ],
      "metadata": {
        "trusted": true,
        "execution": {
          "iopub.status.busy": "2025-01-29T06:39:41.848293Z",
          "iopub.execute_input": "2025-01-29T06:39:41.848821Z",
          "iopub.status.idle": "2025-01-29T06:39:41.896607Z",
          "shell.execute_reply.started": "2025-01-29T06:39:41.848755Z",
          "shell.execute_reply": "2025-01-29T06:39:41.895515Z"
        },
        "id": "1Vq2QH1WlJAy"
      },
      "outputs": [],
      "execution_count": null
    },
    {
      "cell_type": "code",
      "source": [
        "# CHECK IT BACK\n",
        "\n",
        "combined_data.info()"
      ],
      "metadata": {
        "trusted": true,
        "execution": {
          "iopub.status.busy": "2025-01-29T06:39:41.897677Z",
          "iopub.execute_input": "2025-01-29T06:39:41.897962Z",
          "iopub.status.idle": "2025-01-29T06:39:41.924092Z",
          "shell.execute_reply.started": "2025-01-29T06:39:41.897938Z",
          "shell.execute_reply": "2025-01-29T06:39:41.923096Z"
        },
        "id": "nP5F3oXRlJAy"
      },
      "outputs": [],
      "execution_count": null
    },
    {
      "cell_type": "markdown",
      "source": [
        "## Combining Variables and Create new Feature"
      ],
      "metadata": {
        "id": "AFUkKRDylJAz"
      }
    },
    {
      "cell_type": "code",
      "source": [
        "\n",
        "# ADD NEW FEATURE 'GarageEfficiency'\n",
        "combined_data['GarageEfficiency'] = combined_data['GarageArea'] / (combined_data['GarageCars'] + 1)   # +1 TO AVOID DIVISION BY ZERO\n",
        "\n",
        "# ADD NEW FEATURE\n",
        "#combined_data['LivabilityScore'] = combined_data['GrLivArea'] + (combined_data['FullBath'] * 2) + (combined_data['HalfBath'])\n",
        "\n",
        "# ADD NEW FEATURE TotalArea\n",
        "combined_data['TotalArea'] = combined_data['GrLivArea'] + combined_data['TotalBsmtSF']"
      ],
      "metadata": {
        "trusted": true,
        "execution": {
          "iopub.status.busy": "2025-01-29T06:39:41.925193Z",
          "iopub.execute_input": "2025-01-29T06:39:41.925632Z",
          "iopub.status.idle": "2025-01-29T06:39:41.945631Z",
          "shell.execute_reply.started": "2025-01-29T06:39:41.925566Z",
          "shell.execute_reply": "2025-01-29T06:39:41.944408Z"
        },
        "id": "Wn8cTrCTlJAz"
      },
      "outputs": [],
      "execution_count": null
    },
    {
      "cell_type": "code",
      "source": [
        "# CHECK NEW FEATURE\n",
        "\n",
        "combined_data[['GarageEfficiency', 'TotalArea']].head(5)"
      ],
      "metadata": {
        "trusted": true,
        "execution": {
          "iopub.status.busy": "2025-01-29T06:39:41.946777Z",
          "iopub.execute_input": "2025-01-29T06:39:41.947076Z",
          "iopub.status.idle": "2025-01-29T06:39:41.974733Z",
          "shell.execute_reply.started": "2025-01-29T06:39:41.947047Z",
          "shell.execute_reply": "2025-01-29T06:39:41.973621Z"
        },
        "id": "z6HrPoGPlJA0"
      },
      "outputs": [],
      "execution_count": null
    },
    {
      "cell_type": "code",
      "source": [
        "# CHECK CORRELATION OF NEW FEATURE\n",
        "\n",
        "new_feature = combined_data[['SalePrice','GarageEfficiency','GarageArea','GarageCars','TotalArea','GrLivArea','TotalBsmtSF']]\n",
        "\n",
        "corr_new_feature = new_feature.corr(method='spearman')\n",
        "\n",
        "sns.heatmap(data=corr_new_feature, cmap='coolwarm', annot=True, fmt='.2g')"
      ],
      "metadata": {
        "trusted": true,
        "execution": {
          "iopub.status.busy": "2025-01-29T06:39:41.975661Z",
          "iopub.execute_input": "2025-01-29T06:39:41.975952Z",
          "iopub.status.idle": "2025-01-29T06:39:42.432035Z",
          "shell.execute_reply.started": "2025-01-29T06:39:41.975928Z",
          "shell.execute_reply": "2025-01-29T06:39:42.430867Z"
        },
        "id": "lbcK42bmlJA1"
      },
      "outputs": [],
      "execution_count": null
    },
    {
      "cell_type": "markdown",
      "source": [
        "## Overcome Multicolinearity"
      ],
      "metadata": {
        "id": "EODy9OMNlJA1"
      }
    },
    {
      "cell_type": "code",
      "source": [
        "# USING PCA TO ADDRESSING MULTICOLINEARITY\n",
        "\n",
        "\n",
        "zscore = StandardScaler()\n",
        "\n",
        "# NORMALIZATION\n",
        "multi_cols_1 = combined_data[['GarageArea','GarageCars']]   # COLUMN THAT HAS MULTICOLINEARITY\n",
        "multi_cols_1 = zscore.fit_transform(multi_cols_1)\n",
        "\n",
        "# FIND PRINCIPAL COMPONENT OPTIMAL\n",
        "pca_1  = PCA(n_components=None)\n",
        "pca_1.fit_transform(multi_cols_1)\n",
        "\n",
        "\n",
        "# NORMALIZATION\n",
        "multi_cols_2 = combined_data[['1stFlrSF', 'TotalBsmtSF']]\n",
        "multi_cols_2 = zscore.fit_transform(multi_cols_2)\n",
        "\n",
        "# FIND PRINCIPAL COMPONENT OPTIMAL\n",
        "pca_2  = PCA(n_components=None)\n",
        "pca_2.fit_transform(multi_cols_2)\n",
        "\n",
        "\n",
        "# NORMALIZATION\n",
        "multi_cols_3 = combined_data[['GrLivArea', 'TotRmsAbvGrd']]\n",
        "multi_cols_3 = zscore.fit_transform(multi_cols_3)\n",
        "\n",
        "# FIND PRINCIPAL COMPONENT OPTIMAL\n",
        "pca_3  = PCA(n_components=None)\n",
        "pca_3.fit_transform(multi_cols_3)\n",
        "\n",
        "for pca in [pca_1, pca_2, pca_3]:\n",
        "    print(f'Number of Components : {pca.n_components_}')\n",
        "    print(f'Ratio every Component / PC : {pca.explained_variance_ratio_}\\n')\n",
        "    print(f'PCA Components : \\n{pca.components_}\\n')\n",
        "    print('---------------------------------')"
      ],
      "metadata": {
        "trusted": true,
        "execution": {
          "iopub.status.busy": "2025-01-29T06:39:42.433117Z",
          "iopub.execute_input": "2025-01-29T06:39:42.433524Z",
          "iopub.status.idle": "2025-01-29T06:39:42.463777Z",
          "shell.execute_reply.started": "2025-01-29T06:39:42.433485Z",
          "shell.execute_reply": "2025-01-29T06:39:42.46123Z"
        },
        "id": "Qn1qxLMdlJA2"
      },
      "outputs": [],
      "execution_count": null
    },
    {
      "cell_type": "markdown",
      "source": [
        "PC1 explains up to 90%, so we only take PC1"
      ],
      "metadata": {
        "id": "Dark-SsTlJA3"
      }
    },
    {
      "cell_type": "code",
      "source": [
        "# CHOOSE PC1\n",
        "\n",
        "pca_1  = PCA(n_components=1)\n",
        "multi_cols_1 = pca_1.fit_transform(multi_cols_1)\n",
        "\n",
        "pca_2  = PCA(n_components=1)\n",
        "multi_cols_2 = pca_2.fit_transform(multi_cols_2)\n",
        "\n",
        "pca_3  = PCA(n_components=1)\n",
        "multi_cols_3 = pca_3.fit_transform(multi_cols_3)\n",
        "\n",
        "# ADD PC1 TO DATAFRAME\n",
        "combined_data['multi_cols_1'] = multi_cols_1.ravel()\n",
        "combined_data['multi_cols_2'] = multi_cols_2.ravel()\n",
        "combined_data['multi_cols_3'] = multi_cols_3.ravel()\n"
      ],
      "metadata": {
        "trusted": true,
        "execution": {
          "iopub.status.busy": "2025-01-29T06:39:42.464995Z",
          "iopub.execute_input": "2025-01-29T06:39:42.465335Z",
          "iopub.status.idle": "2025-01-29T06:39:42.489368Z",
          "shell.execute_reply.started": "2025-01-29T06:39:42.465307Z",
          "shell.execute_reply": "2025-01-29T06:39:42.487949Z"
        },
        "id": "rIxIVtDTlJA3"
      },
      "outputs": [],
      "execution_count": null
    },
    {
      "cell_type": "code",
      "source": [
        "combined_data.head(5)"
      ],
      "metadata": {
        "trusted": true,
        "execution": {
          "iopub.status.busy": "2025-01-29T06:39:42.490684Z",
          "iopub.execute_input": "2025-01-29T06:39:42.491117Z",
          "iopub.status.idle": "2025-01-29T06:39:42.545287Z",
          "shell.execute_reply.started": "2025-01-29T06:39:42.491075Z",
          "shell.execute_reply": "2025-01-29T06:39:42.54399Z"
        },
        "id": "TCLRApzelJA4"
      },
      "outputs": [],
      "execution_count": null
    },
    {
      "cell_type": "code",
      "source": [
        "# CHECK BACK HEATMAP\n",
        "\n",
        "multi = combined_data[['SalePrice', 'multi_cols_1','GarageCars','GarageArea', 'multi_cols_2','1stFlrSF', 'TotalBsmtSF', 'multi_cols_3', 'GrLivArea', 'TotRmsAbvGrd']]\n",
        "\n",
        "multiq = multi.corr(method='spearman')\n",
        "\n",
        "sns.heatmap(data=multiq, annot=True, fmt='.2g')"
      ],
      "metadata": {
        "trusted": true,
        "execution": {
          "iopub.status.busy": "2025-01-29T06:39:42.546402Z",
          "iopub.execute_input": "2025-01-29T06:39:42.54692Z",
          "iopub.status.idle": "2025-01-29T06:39:43.158931Z",
          "shell.execute_reply.started": "2025-01-29T06:39:42.546878Z",
          "shell.execute_reply": "2025-01-29T06:39:43.15779Z"
        },
        "id": "3kIjVUa7lJA4"
      },
      "outputs": [],
      "execution_count": null
    },
    {
      "cell_type": "markdown",
      "source": [
        "we have successfully overcome multicollinearity, next we drop the multicollinearity feature"
      ],
      "metadata": {
        "id": "M9VZRPkflJA5"
      }
    },
    {
      "cell_type": "code",
      "source": [
        "# DROP MULTICOLINEARITY FEATURE\n",
        "\n",
        "multi_corr = ['GarageCars','GarageArea','1stFlrSF', 'TotalBsmtSF','GrLivArea', 'TotRmsAbvGrd']\n",
        "\n",
        "combined_data.drop(labels= multi_corr, axis=1, inplace=True )\n",
        "\n",
        "combined_data.head(5)"
      ],
      "metadata": {
        "trusted": true,
        "execution": {
          "iopub.status.busy": "2025-01-29T06:39:43.160058Z",
          "iopub.execute_input": "2025-01-29T06:39:43.160447Z",
          "iopub.status.idle": "2025-01-29T06:39:43.204494Z",
          "shell.execute_reply.started": "2025-01-29T06:39:43.160412Z",
          "shell.execute_reply": "2025-01-29T06:39:43.2035Z"
        },
        "id": "QuvCkJ_-lJA5"
      },
      "outputs": [],
      "execution_count": null
    },
    {
      "cell_type": "markdown",
      "source": [
        "## Feature Transformation"
      ],
      "metadata": {
        "id": "ieXE5Wf1lJA6"
      }
    },
    {
      "cell_type": "code",
      "source": [
        "# APPLY POWER TRANSFORMATION TO FEATURE THAT SKEWNESS VALUE > 1 OR < -1\n",
        "\n",
        "# SELECT ALL NUMERICAL DATA\n",
        "transform_data      = combined_data.select_dtypes(include=['int64', 'float64'])\n",
        "continuous_feature  = [col for col in transform_data if len(transform_data[col].unique()) > 25]    # SELECT ONLY CONTINUOUS FEATURE\n",
        "transform_data = combined_data[continuous_feature]\n",
        "transform_data.drop(labels=['SalePrice'], axis=1 , inplace=True)\n",
        "\n",
        "# CHECK SKEWNESS\n",
        "skewness = transform_data.skew().sort_values(ascending=False)\n",
        "\n",
        "# APPLY TRANSFORM FOR FEATURE HAVE SKEWNESS > 1 OR < -1\n",
        "# cols_to_transform = skewness[(skewness > 1) | (skewness < -1)].index\n",
        "cols_to_transform = ['LotArea', 'TotalArea', 'TotalArea', 'multi_cols_2', 'BsmtUnfSF']  # CHOSEN FEATURE TO TRANSFORM\n",
        "\n",
        "for col in cols_to_transform:\n",
        "    yeo_johnson = PowerTransformer(method='yeo-johnson', standardize=True, copy=True)\n",
        "    combined_data[[col]] = yeo_johnson.fit_transform(combined_data[[col]])\n"
      ],
      "metadata": {
        "trusted": true,
        "execution": {
          "iopub.status.busy": "2025-01-29T06:39:43.205435Z",
          "iopub.execute_input": "2025-01-29T06:39:43.205756Z",
          "iopub.status.idle": "2025-01-29T06:39:43.269778Z",
          "shell.execute_reply.started": "2025-01-29T06:39:43.20573Z",
          "shell.execute_reply": "2025-01-29T06:39:43.26863Z"
        },
        "id": "3KPX5-ATlJA7"
      },
      "outputs": [],
      "execution_count": null
    },
    {
      "cell_type": "code",
      "source": [
        "# VISUALIZE AFTER TRANSFORMATION\n",
        "fig , axes = plt.subplots(nrows=1, ncols=5, figsize=(14,4))\n",
        "\n",
        "for i , feature in enumerate(cols_to_transform):\n",
        "    sns.histplot(data=combined_data, x=feature, ax=axes[i%5])\n",
        "\n",
        "plt.show()"
      ],
      "metadata": {
        "trusted": true,
        "execution": {
          "iopub.status.busy": "2025-01-29T06:39:43.270818Z",
          "iopub.execute_input": "2025-01-29T06:39:43.271213Z",
          "iopub.status.idle": "2025-01-29T06:39:44.354241Z",
          "shell.execute_reply.started": "2025-01-29T06:39:43.271175Z",
          "shell.execute_reply": "2025-01-29T06:39:44.353143Z"
        },
        "id": "OVOq_Rx1lJA7"
      },
      "outputs": [],
      "execution_count": null
    },
    {
      "cell_type": "markdown",
      "source": [
        "## One Hot Encoder"
      ],
      "metadata": {
        "id": "lgz9OgSBlJA8"
      }
    },
    {
      "cell_type": "code",
      "source": [
        "combined_data = pd.get_dummies(combined_data).reset_index(drop=True)\n",
        "\n",
        "combined_data"
      ],
      "metadata": {
        "trusted": true,
        "execution": {
          "iopub.status.busy": "2025-01-29T06:39:44.355243Z",
          "iopub.execute_input": "2025-01-29T06:39:44.35581Z",
          "iopub.status.idle": "2025-01-29T06:39:44.541247Z",
          "shell.execute_reply.started": "2025-01-29T06:39:44.355772Z",
          "shell.execute_reply": "2025-01-29T06:39:44.540173Z"
        },
        "id": "adopkm_ClJA8"
      },
      "outputs": [],
      "execution_count": null
    },
    {
      "cell_type": "markdown",
      "source": [
        "### Re-Split the Dataset"
      ],
      "metadata": {
        "id": "3dYYkOYVlJA9"
      }
    },
    {
      "cell_type": "code",
      "source": [
        "new_train_data = combined_data.iloc[:len(train_data), :]\n",
        "new_test_data  = combined_data.iloc[len(train_data):, :]\n",
        "\n",
        "x_train = new_train_data.drop(labels=['SalePrice'], axis=1)\n",
        "\n",
        "# LOG TRANSFORMATION FOR TARGET FEATURE (SalePrice)\n",
        "y_train = np.log1p(new_train_data['SalePrice'])\n",
        "\n",
        "x_test = new_test_data.drop(labels=['SalePrice'], axis=1)\n",
        "\n",
        "\n",
        "x_train.shape , y_train.shape, x_test.shape"
      ],
      "metadata": {
        "trusted": true,
        "execution": {
          "iopub.status.busy": "2025-01-29T06:39:44.542474Z",
          "iopub.execute_input": "2025-01-29T06:39:44.542837Z",
          "iopub.status.idle": "2025-01-29T06:39:44.554836Z",
          "shell.execute_reply.started": "2025-01-29T06:39:44.542793Z",
          "shell.execute_reply": "2025-01-29T06:39:44.553721Z"
        },
        "id": "3WBrovSmlJA-"
      },
      "outputs": [],
      "execution_count": null
    },
    {
      "cell_type": "markdown",
      "source": [
        "## Feature Scaling"
      ],
      "metadata": {
        "id": "Hz82C7HGlJA-"
      }
    },
    {
      "cell_type": "markdown",
      "source": [
        "before we do normalization , let's take a look at the data distribution for the last time"
      ],
      "metadata": {
        "id": "y0V6BJyllJA_"
      }
    },
    {
      "cell_type": "code",
      "source": [
        "\n",
        "# SELECT ALL NUMERICAL FEATURE\n",
        "numerical_feature = ['MSSubClass','LotArea','OverallQual','OverallCond','YearBuilt','YearRemodAdd','MasVnrArea','BsmtFinSF1','BsmtFinSF2','BsmtUnfSF','2ndFlrSF','BsmtFullBath',\n",
        "                     'BsmtHalfBath','FullBath','HalfBath','BedroomAbvGr','KitchenAbvGr','Fireplaces','GarageYrBlt','WoodDeckSF','OpenPorchSF','EnclosedPorch','ScreenPorch',\n",
        "                     'MoSold','YrSold','GarageEfficiency','TotalArea','multi_cols_1','multi_cols_2','multi_cols_3']\n",
        "\n",
        "\n",
        "# VISUALIZE IT\n",
        "fig, axes = plt.subplots(nrows=5, ncols=6, figsize=(25,20))\n",
        "for i , feature in enumerate(numerical_feature):\n",
        "    sns.histplot(data= x_train , x=feature , ax=axes[i%5, i//5])\n",
        "\n",
        "# BOXPLOT\n",
        "fig, axes = plt.subplots(nrows=5, ncols=6, figsize=(25,20))\n",
        "for i,feature in enumerate(numerical_feature):\n",
        "    sns.boxplot(data=x_train, x=feature, ax=axes[i%5, i//5])\n",
        "\n",
        "plt.show()"
      ],
      "metadata": {
        "trusted": true,
        "execution": {
          "iopub.status.busy": "2025-01-29T06:39:44.55599Z",
          "iopub.execute_input": "2025-01-29T06:39:44.556362Z",
          "iopub.status.idle": "2025-01-29T06:39:53.821951Z",
          "shell.execute_reply.started": "2025-01-29T06:39:44.556322Z",
          "shell.execute_reply": "2025-01-29T06:39:53.820806Z"
        },
        "id": "Aiz8jd7elJBA"
      },
      "outputs": [],
      "execution_count": null
    },
    {
      "cell_type": "markdown",
      "source": [
        "We will perform robust scaling normalization for features that have many outliers and are not normally distributed. and use zscore normalization for features that are almost normally distributed."
      ],
      "metadata": {
        "id": "RjmW61ASlJBA"
      }
    },
    {
      "cell_type": "code",
      "source": [
        "# NORMALIZATION\n",
        "\n",
        "# CHOOSE COLUMNS TO NORMALIZE\n",
        "cols_to_robust = ['MSSubClass','YearRemodAdd', '2ndFlrSF','BedroomAbvGr','OpenPorchSF','MasVnrArea','EnclosedPorch','BsmtFinSF1','ScreenPorch','BsmtFinSF2','GarageYrBlt','YearBuilt','WoodDeckSF']\n",
        "cols_to_zscore = ['GarageEfficiency','LotArea','TotalArea','OverallQual','multi_cols_1','OverallCond','multi_cols_2','BsmtUnfSF','multi_cols_3']\n",
        "\n",
        "# ROBUST SCALING NORM\n",
        "robust = RobustScaler()\n",
        "robust.fit(x_train[cols_to_robust])\n",
        "\n",
        "x_train[cols_to_robust] = robust.transform(x_train[cols_to_robust])\n",
        "x_test[cols_to_robust]  = robust.transform(x_test[cols_to_robust])\n",
        "\n",
        "# ZSCORE NORM\n",
        "zscore = StandardScaler()\n",
        "zscore.fit(x_train[cols_to_zscore])\n",
        "\n",
        "x_train[cols_to_zscore] = zscore.transform(x_train[cols_to_zscore])\n",
        "x_test[cols_to_zscore]  = zscore.transform(x_test[cols_to_zscore])\n",
        "\n",
        "x_train.shape , x_test.shape"
      ],
      "metadata": {
        "trusted": true,
        "execution": {
          "iopub.status.busy": "2025-01-29T06:39:53.823273Z",
          "iopub.execute_input": "2025-01-29T06:39:53.823717Z",
          "iopub.status.idle": "2025-01-29T06:39:53.866084Z",
          "shell.execute_reply.started": "2025-01-29T06:39:53.823672Z",
          "shell.execute_reply": "2025-01-29T06:39:53.864842Z"
        },
        "id": "PSZoxbNllJBB"
      },
      "outputs": [],
      "execution_count": null
    },
    {
      "cell_type": "markdown",
      "source": [
        "# <strong> Model Development </strong>"
      ],
      "metadata": {
        "id": "EbPLOfqElJBB"
      }
    },
    {
      "cell_type": "markdown",
      "source": [
        "## Lazy Predict"
      ],
      "metadata": {
        "id": "AsDam-iIlJBC"
      }
    },
    {
      "cell_type": "code",
      "source": [
        "# BUILDING LAZY PREDICT TO FIND BEST MODEL\n",
        "\n",
        "x_train_lazy , x_test_lazy , y_train_lazy , y_test_lazy = train_test_split(x_train, y_train, test_size=0.2, random_state=12, shuffle=True)\n",
        "\n",
        "\n",
        "lazy_model = LazyRegressor(verbose=0, random_state=12, regressors='all')\n",
        "train_lazy , test_lazy = lazy_model.fit(x_train_lazy, x_test_lazy, y_train_lazy, y_test_lazy)\n",
        "test_lazy\n"
      ],
      "metadata": {
        "trusted": true,
        "execution": {
          "iopub.status.busy": "2025-01-29T06:39:53.867224Z",
          "iopub.execute_input": "2025-01-29T06:39:53.86763Z",
          "iopub.status.idle": "2025-01-29T06:40:00.862488Z",
          "shell.execute_reply.started": "2025-01-29T06:39:53.867565Z",
          "shell.execute_reply": "2025-01-29T06:40:00.861071Z"
        },
        "id": "jnUboABdlJBC"
      },
      "outputs": [],
      "execution_count": null
    },
    {
      "cell_type": "markdown",
      "source": [
        "we can see above the best algorithm. Ridge and Linear Regression are better compare to each other. we can use them for Stacking-Models. <br>\n",
        "\n",
        "so, i want use <u>_Linear Model_</u> + <u>_Non-Linear Model_</u> Combination for Stacking Model . <br>\n",
        "\n",
        "Here my Combination :\n",
        "- <strong>Ridge Regression</strong> (Linear Model)\n",
        "- <strong>Linear Regression</strong>  (Linear Model)\n",
        "- <strong>Lasso Regression </strong>   (Linear Model)\n",
        "- <strong>Gradient Boosting Machine </strong>   (Non-Linear Model)\n",
        "- <strong>XGBoost </strong>  (Non-Linear Model)\n",
        "- <strong>LightGBM </strong> (Non-Linear Model)\n",
        "- <strong>CatBoost </strong> (Non-Linear Model)\n"
      ],
      "metadata": {
        "id": "YGtZ92ABlJBD"
      }
    },
    {
      "cell_type": "markdown",
      "source": [
        "## Find Best Hyperparameter using Optuna"
      ],
      "metadata": {
        "id": "Ld3FQDFylJBD"
      }
    },
    {
      "cell_type": "markdown",
      "source": [
        "## Ridge Regression"
      ],
      "metadata": {
        "id": "yOvLm6ySlJBD"
      }
    },
    {
      "cell_type": "markdown",
      "source": [
        "Find best Alpha and Max_iter for Ridge using Optuna"
      ],
      "metadata": {
        "id": "G2KMN6MXlJBE"
      }
    },
    {
      "cell_type": "code",
      "source": [
        "def Ridge_objective(trial):\n",
        "\n",
        "    # SET HYPERPARAMETERS VALUE RANGE\n",
        "    alpha    = trial.suggest_float('alpha',0.1, 25)\n",
        "    max_iter = trial.suggest_int('max_iter',150, 2000)\n",
        "\n",
        "    # SET MODEL\n",
        "    model = Ridge(alpha=alpha,\n",
        "                  max_iter=max_iter,\n",
        "                  random_state=12)\n",
        "\n",
        "    # SCORE METRICS\n",
        "    score = cross_val_score(estimator= model , X = x_train, y= y_train, scoring='neg_root_mean_squared_error')\n",
        "\n",
        "    return score.mean()\n",
        "\n",
        "# BUILD A OPTUNA\n",
        "#study = optuna.create_study(direction='maximize')\n",
        "#study.optimize(func= Ridge_objective, n_trials=100)\n",
        "\n",
        "#print(f'Best CV    : {study.best_params}')\n",
        "#print(f'Best Score : {study.best_value}')\n",
        "\n",
        "# GET BEST HYPERPARAMETERS\n",
        "#ridge_best_params = study.best_params\n",
        "\n",
        "'''\n",
        "Best CV    : {'alpha': 10.92149084623178, 'max_iter': 1112}\n",
        "Best Score : -0.12549632247936676\n",
        "'''\n",
        "\n",
        "'''\n",
        "Best CV    : {'alpha': 10.907628470160567, 'max_iter': 685}\n",
        "Best Score : -0.1254963234836375\n",
        "'''"
      ],
      "metadata": {
        "trusted": true,
        "execution": {
          "iopub.status.busy": "2025-01-29T06:40:00.863617Z",
          "iopub.execute_input": "2025-01-29T06:40:00.864046Z",
          "iopub.status.idle": "2025-01-29T06:40:00.874686Z",
          "shell.execute_reply.started": "2025-01-29T06:40:00.864004Z",
          "shell.execute_reply": "2025-01-29T06:40:00.873358Z"
        },
        "id": "HcEp4tvwlJBE"
      },
      "outputs": [],
      "execution_count": null
    },
    {
      "cell_type": "markdown",
      "source": [
        "fit best hyperparameter and create Ridge model"
      ],
      "metadata": {
        "id": "BNe7r0qnlJBF"
      }
    },
    {
      "cell_type": "code",
      "source": [
        "# BUILD A MODEL\n",
        "\n",
        "ridge_best_params = {'alpha': 10.907628470160567, 'max_iter': 685}\n",
        "\n",
        "ridge = Ridge(fit_intercept=True, solver='auto', random_state=12, **ridge_best_params)\n",
        "ridge.fit(x_train, y_train)\n"
      ],
      "metadata": {
        "trusted": true,
        "execution": {
          "iopub.status.busy": "2025-01-29T06:40:00.875726Z",
          "iopub.execute_input": "2025-01-29T06:40:00.876081Z",
          "iopub.status.idle": "2025-01-29T06:40:00.917826Z",
          "shell.execute_reply.started": "2025-01-29T06:40:00.876052Z",
          "shell.execute_reply": "2025-01-29T06:40:00.91669Z"
        },
        "id": "nozFUPU2lJBG"
      },
      "outputs": [],
      "execution_count": null
    },
    {
      "cell_type": "markdown",
      "source": [
        "### Feature Importance for Ridge"
      ],
      "metadata": {
        "id": "dFv7SenVlJBH"
      }
    },
    {
      "cell_type": "code",
      "source": [
        "# THIS VARIABLE IS TO SEE WHICH FEATURES ARE THE MOST USEFUL AND THE MOST USELESS\n",
        "\n",
        "useless_feature = {}   # CAPTURE coefficient VALUE CLOSE TO ZERO\n",
        "useful_feature  = {}   # CAPTURE HIGH coefficient VALUE\n",
        "\n",
        "# THIS VARIABLE WILL BE VISUALIZE AT THE END"
      ],
      "metadata": {
        "trusted": true,
        "execution": {
          "iopub.status.busy": "2025-01-29T06:40:00.918977Z",
          "iopub.execute_input": "2025-01-29T06:40:00.919374Z",
          "iopub.status.idle": "2025-01-29T06:40:00.924399Z",
          "shell.execute_reply.started": "2025-01-29T06:40:00.919344Z",
          "shell.execute_reply": "2025-01-29T06:40:00.923177Z"
        },
        "id": "I4dy51jplJBH"
      },
      "outputs": [],
      "execution_count": null
    },
    {
      "cell_type": "code",
      "source": [
        "# CHECK FEATURE IMPORTANCES\n",
        "\n",
        "coefficients = ridge.coef_\n",
        "\n",
        "features_importance = pd.DataFrame({\n",
        "    'feature': ridge.feature_names_in_,\n",
        "    'coefficient': coefficients\n",
        "})\n",
        "\n",
        "features_importance = features_importance.sort_values(by='coefficient', ascending=False)\n",
        "\n",
        "plt.figure(figsize=(10,60))\n",
        "plt.barh(y=features_importance['feature'], width=features_importance['coefficient'])\n",
        "\n"
      ],
      "metadata": {
        "trusted": true,
        "execution": {
          "iopub.status.busy": "2025-01-29T06:40:00.925429Z",
          "iopub.execute_input": "2025-01-29T06:40:00.925802Z",
          "iopub.status.idle": "2025-01-29T06:40:03.564648Z",
          "shell.execute_reply.started": "2025-01-29T06:40:00.925772Z",
          "shell.execute_reply": "2025-01-29T06:40:03.563405Z"
        },
        "id": "v6Lrg1UclJBI"
      },
      "outputs": [],
      "execution_count": null
    },
    {
      "cell_type": "markdown",
      "source": [
        "lets display coefficient that has value close to 0"
      ],
      "metadata": {
        "id": "jD1eWwSdlJBI"
      }
    },
    {
      "cell_type": "code",
      "source": [
        "\n",
        "features_importance['coefficient'] = abs(features_importance['coefficient'])   # FIRST,CONVERT COEF TO POSITIVE VALUE\n",
        "\n",
        "zero = features_importance[features_importance['coefficient'] < 0.001 ].sort_values(by='feature', ascending=True)\n",
        "\n",
        "\n",
        "# PUT CLOSE TO ZERO COEF INTO DICT\n",
        "for feature in zero['feature']:\n",
        "    useless_feature[feature] = useless_feature.get(feature,0) + 1\n",
        "\n",
        "\n",
        "\n",
        "# PUT THE HIGH COEFFICIENT INTO DICT\n",
        "threshold = 0.02\n",
        "\n",
        "\n",
        "high_coef = features_importance[features_importance['coefficient'] >= threshold].sort_values(by='coefficient', ascending=False) # SORT IT DESCENDING\n",
        "high_coef = high_coef.reset_index(drop=True)\n",
        "\n",
        "for i, feature in enumerate(high_coef['feature']):\n",
        "    # GIVE VALUE/POINT ACCORDING TO THEIR WEIGHT\n",
        "    useful_feature[feature] = useful_feature.get(feature, 0) + high_coef['coefficient'][i] # COEFFICIENTS WITH HIGHER WEIGHT WILL GET MORE POINTS/VALUES\n",
        "\n",
        "# DISPLAY FEATURE THAT HAS VALUE CLOSE TO ZERO\n",
        "zero\n"
      ],
      "metadata": {
        "trusted": true,
        "execution": {
          "iopub.status.busy": "2025-01-29T06:40:03.565995Z",
          "iopub.execute_input": "2025-01-29T06:40:03.566331Z",
          "iopub.status.idle": "2025-01-29T06:40:03.583349Z",
          "shell.execute_reply.started": "2025-01-29T06:40:03.566301Z",
          "shell.execute_reply": "2025-01-29T06:40:03.582124Z"
        },
        "id": "5AsG4ugIlJBJ"
      },
      "outputs": [],
      "execution_count": null
    },
    {
      "cell_type": "markdown",
      "source": [
        "confuse? ok lets print 'useful_feature' variable"
      ],
      "metadata": {
        "id": "z0kKlfBAlJBK"
      }
    },
    {
      "cell_type": "code",
      "source": [
        "useful_feature"
      ],
      "metadata": {
        "trusted": true,
        "execution": {
          "iopub.status.busy": "2025-01-29T06:40:03.584388Z",
          "iopub.execute_input": "2025-01-29T06:40:03.58486Z",
          "iopub.status.idle": "2025-01-29T06:40:03.609349Z",
          "shell.execute_reply.started": "2025-01-29T06:40:03.584821Z",
          "shell.execute_reply": "2025-01-29T06:40:03.607981Z"
        },
        "id": "ZCjzyuMXlJBK"
      },
      "outputs": [],
      "execution_count": null
    },
    {
      "cell_type": "markdown",
      "source": [
        "useful_feature.keys() contain name of feature/columns, and useful_feature.values() contains coefficient/weight of features"
      ],
      "metadata": {
        "id": "Mkv-JxnBlJBL"
      }
    },
    {
      "cell_type": "markdown",
      "source": [],
      "metadata": {
        "id": "cipTDLM1lJBL"
      }
    },
    {
      "cell_type": "markdown",
      "source": [
        "## Lasso Regression"
      ],
      "metadata": {
        "id": "4-UJ2DFolJBL"
      }
    },
    {
      "cell_type": "code",
      "source": [
        "def lasso_objective(trial):\n",
        "\n",
        "    # SET HYPERPARAMETERS VALUE RANGE\n",
        "    alpha    = trial.suggest_float('alpha',0.1, 25)\n",
        "    max_iter = trial.suggest_int('max_iter',150, 2000)\n",
        "\n",
        "    # SET MODEL\n",
        "    model = Lasso(alpha=alpha,\n",
        "                  max_iter=max_iter,\n",
        "                  random_state=10)\n",
        "\n",
        "    # SCORE METRICS\n",
        "    score = cross_val_score(estimator= model , X = x_train, y= y_train, scoring='neg_root_mean_squared_error')\n",
        "\n",
        "    return score.mean()\n",
        "\n",
        "\n",
        "#study = optuna.create_study(direction='maximize')\n",
        "#study.optimize(func= lasso_objective, n_trials=100)\n",
        "\n",
        "#print(f'Best CV    : {study.best_params}')\n",
        "#print(f'Best Score : {study.best_value}')\n",
        "\n",
        "#lasso_best_params = study.best_params\n",
        "\n",
        "'''\n",
        "Best CV    : {'alpha': 0.10570252247670833, 'max_iter': 1386}\n",
        "Best Score : -0.21352962715534524 at trial 61\n",
        "'''\n",
        "\n",
        "'''\n",
        "Best CV    : {'alpha': 0.10064802295354133, 'max_iter': 1839}\n",
        "Best Score : -0.21014074025313523\n",
        "'''"
      ],
      "metadata": {
        "trusted": true,
        "execution": {
          "iopub.status.busy": "2025-01-29T06:40:03.610873Z",
          "iopub.execute_input": "2025-01-29T06:40:03.611322Z",
          "iopub.status.idle": "2025-01-29T06:40:03.631897Z",
          "shell.execute_reply.started": "2025-01-29T06:40:03.611275Z",
          "shell.execute_reply": "2025-01-29T06:40:03.630735Z"
        },
        "id": "lKACe5NYlJBM"
      },
      "outputs": [],
      "execution_count": null
    },
    {
      "cell_type": "code",
      "source": [
        "lasso_best_params = {'alpha': 0.10064802295354133, 'max_iter': 1839}\n",
        "\n",
        "# BUILD A MODEL\n",
        "lasso = Lasso(fit_intercept=True, random_state=12, **lasso_best_params)\n",
        "lasso.fit(x_train, y_train)"
      ],
      "metadata": {
        "trusted": true,
        "execution": {
          "iopub.status.busy": "2025-01-29T06:40:03.633127Z",
          "iopub.execute_input": "2025-01-29T06:40:03.633543Z",
          "iopub.status.idle": "2025-01-29T06:40:03.675329Z",
          "shell.execute_reply.started": "2025-01-29T06:40:03.633486Z",
          "shell.execute_reply": "2025-01-29T06:40:03.67434Z"
        },
        "id": "6-_oOIAclJBM"
      },
      "outputs": [],
      "execution_count": null
    },
    {
      "cell_type": "markdown",
      "source": [
        "### Feature Importances Lasso Regression"
      ],
      "metadata": {
        "id": "Ry5SGaHblJBN"
      }
    },
    {
      "cell_type": "code",
      "source": [
        "# CHECK FEATURE IMPORTANCES\n",
        "\n",
        "coefficients = lasso.coef_  # GET WEIGHT / COEFFICIENT\n",
        "\n",
        "features_importance = pd.DataFrame({\n",
        "    'feature': lasso.feature_names_in_,\n",
        "    'coefficient': coefficients\n",
        "})\n",
        "\n",
        "features_importance = features_importance.sort_values(by='coefficient', ascending=False)\n",
        "\n",
        "plt.figure(figsize=(10,60))\n",
        "plt.barh(y=features_importance['feature'], width=features_importance['coefficient'])\n"
      ],
      "metadata": {
        "trusted": true,
        "execution": {
          "iopub.status.busy": "2025-01-29T06:40:03.676367Z",
          "iopub.execute_input": "2025-01-29T06:40:03.67676Z",
          "iopub.status.idle": "2025-01-29T06:40:06.333055Z",
          "shell.execute_reply.started": "2025-01-29T06:40:03.676725Z",
          "shell.execute_reply": "2025-01-29T06:40:06.331868Z"
        },
        "id": "_xc6BesKlJBN"
      },
      "outputs": [],
      "execution_count": null
    },
    {
      "cell_type": "markdown",
      "source": [
        "almost all of its features have zero coefficient"
      ],
      "metadata": {
        "id": "_mp7CZ0KlJBO"
      }
    },
    {
      "cell_type": "code",
      "source": [
        "\n",
        "features_importance['coefficient'] = abs(features_importance['coefficient'])   # FIRST,CONVERT COEF TO POSITIVE VALUE\n",
        "\n",
        "zero = features_importance[features_importance['coefficient'] == 0 ].sort_values(by='feature', ascending=True)\n",
        "\n",
        "\n",
        "# PUT CLOSE TO ZERO COEF INTO DICT\n",
        "for feature in zero['feature']:\n",
        "    useless_feature[feature] = useless_feature.get(feature,0) + 1\n",
        "\n",
        "\n",
        "\n",
        "# PUT THE HIGH COEFFICIENT INTO DICT\n",
        "threshold = 0.02\n",
        "\n",
        "\n",
        "high_coef = features_importance[features_importance['coefficient'] >= threshold].sort_values(by='coefficient', ascending=False) # SORT IT DESCENDING\n",
        "high_coef = high_coef.reset_index(drop=True)\n",
        "\n",
        "for i, feature in enumerate(high_coef['feature']):\n",
        "    # GIVE VALUE/POINT ACCORDING TO THEIR WEIGHT\n",
        "    useful_feature[feature] = useful_feature.get(feature, 0) + high_coef['coefficient'][i] # COEFFICIENTS WITH HIGHER WEIGHT WILL GET MORE POINTS/VALUES\n",
        "\n",
        "# DISPLAY FEATURE THAT HAS VALUE CLOSE TO ZERO\n",
        "zero"
      ],
      "metadata": {
        "trusted": true,
        "execution": {
          "iopub.status.busy": "2025-01-29T06:40:06.334485Z",
          "iopub.execute_input": "2025-01-29T06:40:06.334831Z",
          "iopub.status.idle": "2025-01-29T06:40:06.351895Z",
          "shell.execute_reply.started": "2025-01-29T06:40:06.3348Z",
          "shell.execute_reply": "2025-01-29T06:40:06.350683Z"
        },
        "id": "-CqLuV_glJBP"
      },
      "outputs": [],
      "execution_count": null
    },
    {
      "cell_type": "markdown",
      "source": [
        "## Linear Regression"
      ],
      "metadata": {
        "id": "k7DYZPYWlJBP"
      }
    },
    {
      "cell_type": "code",
      "source": [
        "linear = LinearRegression(fit_intercept=True, positive=False)\n",
        "linear.fit(x_train, y_train)"
      ],
      "metadata": {
        "trusted": true,
        "execution": {
          "iopub.status.busy": "2025-01-29T06:40:06.353066Z",
          "iopub.execute_input": "2025-01-29T06:40:06.353441Z",
          "iopub.status.idle": "2025-01-29T06:40:06.40551Z",
          "shell.execute_reply.started": "2025-01-29T06:40:06.353401Z",
          "shell.execute_reply": "2025-01-29T06:40:06.404436Z"
        },
        "id": "8DqrmVA9lJBQ"
      },
      "outputs": [],
      "execution_count": null
    },
    {
      "cell_type": "markdown",
      "source": [
        "### Feature Importance for Linear Regression"
      ],
      "metadata": {
        "id": "t5bziqhLlJBQ"
      }
    },
    {
      "cell_type": "code",
      "source": [
        "\n",
        "coefficients = linear.coef_\n",
        "\n",
        "features_importance = pd.DataFrame({\n",
        "    'feature' : linear.feature_names_in_,\n",
        "    'coefficient' : coefficients\n",
        "})\n",
        "features_importance = features_importance.sort_values(by='coefficient', ascending=False)  # SORT IT TO DESCENDING\n",
        "\n",
        "plt.figure(figsize=(10,50))\n",
        "\n",
        "plt.barh(y=features_importance['feature'], width=features_importance['coefficient'])\n",
        "plt.show()"
      ],
      "metadata": {
        "trusted": true,
        "execution": {
          "iopub.status.busy": "2025-01-29T06:40:06.406622Z",
          "iopub.execute_input": "2025-01-29T06:40:06.406952Z",
          "iopub.status.idle": "2025-01-29T06:40:08.998179Z",
          "shell.execute_reply.started": "2025-01-29T06:40:06.406915Z",
          "shell.execute_reply": "2025-01-29T06:40:08.99682Z"
        },
        "id": "xKTx1pvolJBQ"
      },
      "outputs": [],
      "execution_count": null
    },
    {
      "cell_type": "markdown",
      "source": [
        "show feature with values close to 0"
      ],
      "metadata": {
        "id": "FfLG5jFFlJBR"
      }
    },
    {
      "cell_type": "code",
      "source": [
        "features_importance['coefficient'] = abs(features_importance['coefficient'])   # FIRST,CONVERT COEF TO POSITIVE VALUE\n",
        "\n",
        "zero = features_importance[features_importance['coefficient'] < 0.001 ].sort_values(by='feature', ascending=True)\n",
        "\n",
        "\n",
        "# PUT CLOSE TO ZERO COEF INTO DICT\n",
        "for feature in zero['feature']:\n",
        "    useless_feature[feature] = useless_feature.get(feature,0) + 1\n",
        "\n",
        "\n",
        "\n",
        "# PUT THE HIGH COEFFICIENT INTO DICT\n",
        "threshold = 0.02\n",
        "\n",
        "\n",
        "high_coef = features_importance[features_importance['coefficient'] >= threshold].sort_values(by='coefficient', ascending=False) # SORT IT DESCENDING\n",
        "high_coef = high_coef.reset_index(drop=True)\n",
        "\n",
        "for i, feature in enumerate(high_coef['feature']):\n",
        "    # GIVE VALUE/POINT ACCORDING TO THEIR WEIGHT\n",
        "    useful_feature[feature] = useful_feature.get(feature, 0) + high_coef['coefficient'][i] # COEFFICIENTS WITH HIGHER WEIGHT WILL GET MORE POINTS/VALUES\n",
        "\n",
        "# DISPLAY FEATURE THAT HAS VALUE CLOSE TO ZERO\n",
        "zero"
      ],
      "metadata": {
        "trusted": true,
        "execution": {
          "iopub.status.busy": "2025-01-29T06:40:08.999371Z",
          "iopub.execute_input": "2025-01-29T06:40:08.999746Z",
          "iopub.status.idle": "2025-01-29T06:40:09.018844Z",
          "shell.execute_reply.started": "2025-01-29T06:40:08.999715Z",
          "shell.execute_reply": "2025-01-29T06:40:09.017516Z"
        },
        "id": "DiLCUhawlJBR"
      },
      "outputs": [],
      "execution_count": null
    },
    {
      "cell_type": "markdown",
      "source": [
        "## Gradient Boosting Machine"
      ],
      "metadata": {
        "id": "QPuxrHNulJBS"
      }
    },
    {
      "cell_type": "code",
      "source": [
        "# GRADIENT BOOSTING MACHINE\n",
        "\n",
        "def gbr_objective(trial):\n",
        "\n",
        "    # SET HYPERPARAMETER VALUE RANGE\n",
        "    n_estimators     = trial.suggest_int('n_estimators', 50,2000)\n",
        "    learning_rate    = trial.suggest_uniform('learning_rate', 0.001, 1)\n",
        "    max_depth        = trial.suggest_int('max_depth', 2, 16)\n",
        "    min_sample_split = trial.suggest_int('min_samples_split', 2, 25)\n",
        "    max_features     = trial.suggest_int('max_features', 5, 60)\n",
        "\n",
        "    # DECLARATE THE MODEL AND ITS HYPERPARAMETERS\n",
        "    gbr = GradientBoostingRegressor(\n",
        "        n_estimators      = n_estimators,\n",
        "        learning_rate     = learning_rate,\n",
        "        max_depth         = max_depth,\n",
        "        min_samples_split = min_sample_split,\n",
        "        max_features      = max_features,\n",
        "        random_state      = 12\n",
        "        )\n",
        "\n",
        "    # CREATE SCORE EVALUATION\n",
        "    score = cross_val_score(estimator= gbr, X= x_train, y= y_train, scoring='neg_root_mean_squared_error')\n",
        "\n",
        "    return score.mean()\n",
        "\n",
        "# BUILD OPTUNA\n",
        "#study = optuna.create_study(direction='maximize')\n",
        "\n",
        "# START TO FIND BEST HYPERPARAMETERS\n",
        "#study.optimize(func= gbr_objective, n_trials=200)\n",
        "\n",
        "#print(f'Best Hyperparameter : {study.best_params}')\n",
        "#print(f'Best Score          : {study.best_value}')\n",
        "\n",
        "# TAKE THE BEST PARAMETERS\n",
        "#gbr_best_params = study.best_params\n",
        "\n",
        "'''\n",
        "Best Hyperparameter : {'n_estimators': 1899, 'learning_rate': 0.054138183966776846, 'max_depth': 3, 'min_samples_split': 14, 'max_features': 26}\n",
        "Best Score          : -0.11692210503959213 at trial 97\n",
        "'''\n",
        "\n",
        "''' BEST AT KAGGLE\n",
        "Best Params : {'n_estimators': 1552, 'learning_rate': 0.03236403825303992, 'max_depth': 3, 'min_samples_split': 14, 'max_features': 46}\n",
        "Best Score  : -0.11735617999331582 at trial 72\n",
        "'''\n"
      ],
      "metadata": {
        "trusted": true,
        "execution": {
          "iopub.status.busy": "2025-01-29T06:40:09.020153Z",
          "iopub.execute_input": "2025-01-29T06:40:09.020635Z",
          "iopub.status.idle": "2025-01-29T06:40:09.044468Z",
          "shell.execute_reply.started": "2025-01-29T06:40:09.020566Z",
          "shell.execute_reply": "2025-01-29T06:40:09.043155Z"
        },
        "id": "gdBq9oXslJBS"
      },
      "outputs": [],
      "execution_count": null
    },
    {
      "cell_type": "code",
      "source": [
        "# FIT MODEL GBM\n",
        "\n",
        "gbr_best_params = {'n_estimators': 1552, 'learning_rate': 0.03236403825303992, 'max_depth': 3, 'min_samples_split': 14, 'max_features': 46}\n",
        "gbm = GradientBoostingRegressor(random_state=12, **gbr_best_params)\n",
        "gbm.fit(x_train,y_train)"
      ],
      "metadata": {
        "trusted": true,
        "execution": {
          "iopub.status.busy": "2025-01-29T06:40:09.045742Z",
          "iopub.execute_input": "2025-01-29T06:40:09.046114Z",
          "iopub.status.idle": "2025-01-29T06:40:13.287478Z",
          "shell.execute_reply.started": "2025-01-29T06:40:09.04607Z",
          "shell.execute_reply": "2025-01-29T06:40:13.286421Z"
        },
        "id": "LLL1PKKzlJBT"
      },
      "outputs": [],
      "execution_count": null
    },
    {
      "cell_type": "markdown",
      "source": [
        "### Feature Importance for GBM Model"
      ],
      "metadata": {
        "id": "9bUUeHU6lJBT"
      }
    },
    {
      "cell_type": "code",
      "source": [
        "\n",
        "plt.figure(figsize=(12,50))\n",
        "\n",
        "features_importance = pd.DataFrame({\n",
        "    'feature' : gbm.feature_names_in_,\n",
        "    'coefficient' : gbm.feature_importances_\n",
        "})\n",
        "\n",
        "features_importance = features_importance.sort_values(by='coefficient', ascending= True)\n",
        "plt.barh(y= features_importance['feature'], width= features_importance['coefficient'], color='skyblue')"
      ],
      "metadata": {
        "trusted": true,
        "execution": {
          "iopub.status.busy": "2025-01-29T06:40:13.288988Z",
          "iopub.execute_input": "2025-01-29T06:40:13.289369Z",
          "iopub.status.idle": "2025-01-29T06:40:15.930552Z",
          "shell.execute_reply.started": "2025-01-29T06:40:13.289323Z",
          "shell.execute_reply": "2025-01-29T06:40:15.929396Z"
        },
        "id": "SoBCUv7OlJBT"
      },
      "outputs": [],
      "execution_count": null
    },
    {
      "cell_type": "markdown",
      "source": [
        "There are too many coefficients that are close to zero, let's display the coefficients that have a value of 0."
      ],
      "metadata": {
        "id": "9mSgAkiNlJBU"
      }
    },
    {
      "cell_type": "code",
      "source": [
        "features_importance[features_importance['coefficient'] < 0.00001 ].sort_values(by='feature', ascending=True)"
      ],
      "metadata": {
        "trusted": true,
        "execution": {
          "iopub.status.busy": "2025-01-29T06:40:15.931868Z",
          "iopub.execute_input": "2025-01-29T06:40:15.932259Z",
          "iopub.status.idle": "2025-01-29T06:40:15.945836Z",
          "shell.execute_reply.started": "2025-01-29T06:40:15.932227Z",
          "shell.execute_reply": "2025-01-29T06:40:15.944809Z"
        },
        "id": "v5K-Kd3QlJBU"
      },
      "outputs": [],
      "execution_count": null
    },
    {
      "cell_type": "code",
      "source": [
        "\n",
        "zero = features_importance[features_importance['coefficient'] < 0.00001 ].sort_values(by='feature', ascending=True) # SELECT ALL FEATURE THAT WEIGHT < 0.001\n",
        "\n",
        "\n",
        "# PUT CLOSE TO ZERO COEF INTO DICT\n",
        "for feature in zero['feature']:\n",
        "    useless_feature[feature] = useless_feature.get(feature,0) + 1\n",
        "\n",
        "\n",
        "\n",
        "# PUT THE HIGH COEFFICIENT INTO DICT\n",
        "threshold = 0.002\n",
        "\n",
        "\n",
        "high_coef = features_importance[features_importance['coefficient'] >= threshold].sort_values(by='coefficient', ascending=False) # SORT IT DESCENDING\n",
        "high_coef = high_coef.reset_index(drop=True)\n",
        "\n",
        "for i, feature in enumerate(high_coef['feature']):\n",
        "    # GIVE VALUE/POINT ACCORDING TO THEIR WEIGHT\n",
        "    useful_feature[feature] = useful_feature.get(feature, 0) + high_coef['coefficient'][i] # COEFFICIENTS WITH HIGHER WEIGHT WILL GET MORE POINTS/VALUES\n",
        "\n",
        "# DISPLAY FEATURE THAT HAS VALUE CLOSE TO ZERO\n",
        "zero"
      ],
      "metadata": {
        "trusted": true,
        "execution": {
          "iopub.status.busy": "2025-01-29T06:40:15.946919Z",
          "iopub.execute_input": "2025-01-29T06:40:15.947246Z",
          "iopub.status.idle": "2025-01-29T06:40:15.975923Z",
          "shell.execute_reply.started": "2025-01-29T06:40:15.947218Z",
          "shell.execute_reply": "2025-01-29T06:40:15.97482Z"
        },
        "id": "waMgM92HlJBU"
      },
      "outputs": [],
      "execution_count": null
    },
    {
      "cell_type": "markdown",
      "source": [
        "## XGBoost"
      ],
      "metadata": {
        "id": "n7FllduIlJBV"
      }
    },
    {
      "cell_type": "code",
      "source": [
        "def xg_objective(trial):\n",
        "\n",
        "    n_estimators    = trial.suggest_int('n_estimators', 100, 2000)\n",
        "    learning_rate   = trial.suggest_uniform('learning_rate', 0.01, 1)\n",
        "    max_depth       = trial.suggest_int('max_depth', 2, 20)\n",
        "    min_child_weight= trial.suggest_float('min_child_weight', 0.4, 10)\n",
        "    subsample       = trial.suggest_uniform('subsample', 0.35, 1)\n",
        "    gamma           = trial.suggest_float('gamma', 0.1, 1)\n",
        "    reg_alpha       = trial.suggest_float('reg_alpha', 0.01, 15)\n",
        "    reg_lambda      = trial.suggest_float('reg_lambda', 0.01, 15)\n",
        "\n",
        "    xgboost = xgb.XGBRegressor(\n",
        "        n_estimators     = n_estimators,\n",
        "        learning_rate    = learning_rate,\n",
        "        max_depth        = max_depth,\n",
        "        min_child_weight = min_child_weight,\n",
        "        subsample        = subsample,\n",
        "        gamma            = gamma,\n",
        "        reg_alpha        = reg_alpha,\n",
        "        reg_lambda       = reg_lambda,\n",
        "        random_state     = 12\n",
        "    )\n",
        "\n",
        "    score = cross_val_score(estimator= xgboost, X = x_train, y = y_train, scoring='neg_root_mean_squared_log_error')\n",
        "\n",
        "    return score.mean()\n",
        "\n",
        "\n",
        "#study = optuna.create_study(direction='maximize')\n",
        "#study.optimize(func= xg_objective, n_trials= 200)\n",
        "\n",
        "#xgb_best_params = study.best_params\n",
        "\n",
        "'''\n",
        "Best Params : {'n_estimators': 1738, 'learning_rate': 0.10819163170249219, 'max_depth': 19, 'min_child_weight': 1.0918881759107903, 'subsample': 0.46270891531334185,\n",
        "                'gamma': 0.10028845351448364, 'reg_alpha': 0.3534965264352544, 'reg_lambda': 12.97887001192773}\n",
        "Best Score  : -0.009996840517023025 at trial 137\n",
        "'''"
      ],
      "metadata": {
        "trusted": true,
        "execution": {
          "iopub.status.busy": "2025-01-29T06:40:15.977095Z",
          "iopub.execute_input": "2025-01-29T06:40:15.977444Z",
          "iopub.status.idle": "2025-01-29T06:40:15.995821Z",
          "shell.execute_reply.started": "2025-01-29T06:40:15.977413Z",
          "shell.execute_reply": "2025-01-29T06:40:15.994908Z"
        },
        "id": "BbNdblY-lJBV"
      },
      "outputs": [],
      "execution_count": null
    },
    {
      "cell_type": "code",
      "source": [
        "\n",
        "xgb_best_params = {'n_estimators': 1552, 'learning_rate': 0.03236403825303992, 'max_depth': 3, 'min_samples_split': 14, 'max_features': 46}\n",
        "\n",
        "xgboost = xgb.XGBRegressor(random_state=12, **xgb_best_params)\n",
        "xgboost.fit(x_train, y_train)"
      ],
      "metadata": {
        "trusted": true,
        "execution": {
          "iopub.status.busy": "2025-01-29T06:40:15.996903Z",
          "iopub.execute_input": "2025-01-29T06:40:15.997288Z",
          "iopub.status.idle": "2025-01-29T06:40:18.884957Z",
          "shell.execute_reply.started": "2025-01-29T06:40:15.997252Z",
          "shell.execute_reply": "2025-01-29T06:40:18.883824Z"
        },
        "id": "wnYoidVnlJBW"
      },
      "outputs": [],
      "execution_count": null
    },
    {
      "cell_type": "markdown",
      "source": [
        "### Feature Importance for XGBoost"
      ],
      "metadata": {
        "id": "4W3ARyVylJBW"
      }
    },
    {
      "cell_type": "code",
      "source": [
        "# SHOW FEATURE IMPORTANCES\n",
        "\n",
        "plt.figure(figsize=(12,50))\n",
        "\n",
        "features_importance = pd.DataFrame({\n",
        "    'feature' : xgboost.feature_names_in_,\n",
        "    'coefficient' : xgboost.feature_importances_\n",
        "})\n",
        "\n",
        "features_importance = features_importance.sort_values(by='coefficient', ascending= True)\n",
        "plt.barh(y= features_importance['feature'], width= features_importance['coefficient'], color='skyblue')"
      ],
      "metadata": {
        "trusted": true,
        "execution": {
          "iopub.status.busy": "2025-01-29T06:40:18.885902Z",
          "iopub.execute_input": "2025-01-29T06:40:18.886197Z",
          "iopub.status.idle": "2025-01-29T06:40:21.446435Z",
          "shell.execute_reply.started": "2025-01-29T06:40:18.886172Z",
          "shell.execute_reply": "2025-01-29T06:40:21.445228Z"
        },
        "id": "S1OeWegVlJBX"
      },
      "outputs": [],
      "execution_count": null
    },
    {
      "cell_type": "markdown",
      "source": [
        "same as GBM , lets show coefficient that has value 0"
      ],
      "metadata": {
        "id": "k6YCVGzMlJBX"
      }
    },
    {
      "cell_type": "code",
      "source": [
        "zero = features_importance[features_importance['coefficient'] == 0 ].sort_values(by='feature', ascending=True) # ALL FEATURE THAT WEIGHT < 0.001\n",
        "\n",
        "\n",
        "# PUT CLOSE TO ZERO COEF INTO DICT\n",
        "for feature in zero['feature']:\n",
        "    useless_feature[feature] = useless_feature.get(feature,0) + 1\n",
        "\n",
        "\n",
        "\n",
        "# PUT THE HIGH COEFFICIENT INTO DICT\n",
        "threshold = 0.01\n",
        "\n",
        "\n",
        "high_coef = features_importance[features_importance['coefficient'] >= threshold].sort_values(by='coefficient', ascending=False) # SORT IT DESCENDING\n",
        "high_coef = high_coef.reset_index(drop=True)\n",
        "\n",
        "for i, feature in enumerate(high_coef['feature']):\n",
        "    # GIVE VALUE/POINT ACCORDING TO THEIR WEIGHT\n",
        "    useful_feature[feature] = useful_feature.get(feature, 0) + high_coef['coefficient'][i] # COEFFICIENTS WITH HIGHER WEIGHT WILL GET MORE POINTS/VALUES\n",
        "\n",
        "# DISPLAY FEATURE THAT HAS VALUE CLOSE TO ZERO\n",
        "zero"
      ],
      "metadata": {
        "trusted": true,
        "execution": {
          "iopub.status.busy": "2025-01-29T06:40:21.447871Z",
          "iopub.execute_input": "2025-01-29T06:40:21.44829Z",
          "iopub.status.idle": "2025-01-29T06:40:21.469292Z",
          "shell.execute_reply.started": "2025-01-29T06:40:21.448247Z",
          "shell.execute_reply": "2025-01-29T06:40:21.468053Z"
        },
        "id": "E7dhNaiflJBY"
      },
      "outputs": [],
      "execution_count": null
    },
    {
      "cell_type": "markdown",
      "source": [
        "## CatBoost"
      ],
      "metadata": {
        "id": "l8w4eVn_lJBY"
      }
    },
    {
      "cell_type": "code",
      "source": [
        "def catboost_objective(trial):\n",
        "\n",
        "    params = {\n",
        "        'iterations': trial.suggest_int('iterations', 100, 1000),\n",
        "        'learning_rate': trial.suggest_loguniform('learning_rate', 1e-5, 0.1),\n",
        "        'depth': trial.suggest_int('depth', 3, 10),\n",
        "        'l2_leaf_reg': trial.suggest_loguniform('l2_leaf_reg', 1e-5, 10),\n",
        "        'subsample': trial.suggest_uniform('subsample', 0.5, 1.0),\n",
        "        'colsample_bylevel': trial.suggest_uniform('colsample_bylevel', 0.5, 1.0),\n",
        "        'min_data_in_leaf': trial.suggest_int('min_data_in_leaf', 1, 100),\n",
        "        'max_bin': trial.suggest_int('max_bin', 10, 500),\n",
        "        'eval_metric': 'RMSE',\n",
        "\n",
        "    }\n",
        "\n",
        "    cat = catboost.CatBoostRegressor(**params, random_state=12, verbose=0)\n",
        "\n",
        "    score = cross_val_score(estimator=cat, X= x_train, y= y_train, scoring='neg_root_mean_squared_error')\n",
        "\n",
        "    return score.mean()\n",
        "\n",
        "#study = optuna.create_study(direction='maximize')\n",
        "#study.optimize(func=catboost_objective, n_trials=50)\n",
        "\n",
        "#print(f'Best Params : {study.best_params}')\n",
        "#print(f'Best Scores : {study.best_value}')\n",
        "\n",
        "\n",
        "#catboost_best_params = study.best_params\n",
        "\n",
        "'''\n",
        "Best Params : {'iterations': 940, 'learning_rate': 0.05397757917685036, 'depth': 4, 'l2_leaf_reg': 9.88267503317357e-05, 'subsample': 0.9616596331860532,\n",
        "               'colsample_bylevel': 0.6942581356179441, 'min_data_in_leaf': 61, 'max_bin': 197}\n",
        "Best Scores : -0.11600213030799092\n",
        "'''"
      ],
      "metadata": {
        "trusted": true,
        "execution": {
          "iopub.status.busy": "2025-01-29T06:40:21.470232Z",
          "iopub.execute_input": "2025-01-29T06:40:21.47065Z",
          "iopub.status.idle": "2025-01-29T06:40:21.491115Z",
          "shell.execute_reply.started": "2025-01-29T06:40:21.470609Z",
          "shell.execute_reply": "2025-01-29T06:40:21.490103Z"
        },
        "id": "6n5JyLcrlJBZ"
      },
      "outputs": [],
      "execution_count": null
    },
    {
      "cell_type": "code",
      "source": [
        "%%capture\n",
        "catboost_best_params = {'iterations': 940, 'learning_rate': 0.05397757917685036, 'depth': 4, 'l2_leaf_reg': 9.88267503317357e-05, 'subsample': 0.9616596331860532,\n",
        "               'colsample_bylevel': 0.6942581356179441, 'min_data_in_leaf': 61, 'max_bin': 197}\n",
        "\n",
        "cat = catboost.CatBoostRegressor(random_state=12, devices=0,**catboost_best_params)\n",
        "cat.fit(x_train, y_train)"
      ],
      "metadata": {
        "trusted": true,
        "execution": {
          "iopub.status.busy": "2025-01-29T06:40:21.492418Z",
          "iopub.execute_input": "2025-01-29T06:40:21.492864Z",
          "iopub.status.idle": "2025-01-29T06:40:23.438823Z",
          "shell.execute_reply.started": "2025-01-29T06:40:21.49282Z",
          "shell.execute_reply": "2025-01-29T06:40:23.437463Z"
        },
        "id": "gXrJr4PZlJBa"
      },
      "outputs": [],
      "execution_count": null
    },
    {
      "cell_type": "markdown",
      "source": [
        "### Show Feature Importance for CatBoost"
      ],
      "metadata": {
        "id": "kdJbmvnulJBb"
      }
    },
    {
      "cell_type": "code",
      "source": [
        "# SHOW FEATURE IMPORTANCES\n",
        "\n",
        "plt.figure(figsize=(12,50))\n",
        "\n",
        "features_importance = pd.DataFrame({\n",
        "    'feature' : x_train.columns,\n",
        "    'coefficient' : cat.feature_importances_\n",
        "})\n",
        "\n",
        "features_importance = features_importance.sort_values(by='coefficient', ascending= True)\n",
        "plt.barh(y= features_importance['feature'], width= features_importance['coefficient'], color='skyblue')"
      ],
      "metadata": {
        "trusted": true,
        "execution": {
          "iopub.status.busy": "2025-01-29T06:40:23.440439Z",
          "iopub.execute_input": "2025-01-29T06:40:23.440907Z",
          "iopub.status.idle": "2025-01-29T06:40:26.03528Z",
          "shell.execute_reply.started": "2025-01-29T06:40:23.440857Z",
          "shell.execute_reply": "2025-01-29T06:40:26.033875Z"
        },
        "id": "lrYqxU8BlJBb"
      },
      "outputs": [],
      "execution_count": null
    },
    {
      "cell_type": "markdown",
      "source": [
        "Display Feature that has coefficient 0"
      ],
      "metadata": {
        "id": "NiBoaFQ5lJBc"
      }
    },
    {
      "cell_type": "code",
      "source": [
        "zero = features_importance[features_importance['coefficient'] == 0 ].sort_values(by='feature', ascending=True) # ALL FEATURE THAT WEIGHT < 0.001\n",
        "\n",
        "\n",
        "# PUT CLOSE TO ZERO COEF INTO DICT\n",
        "for feature in zero['feature']:\n",
        "    useless_feature[feature] = useless_feature.get(feature,0) + 1\n",
        "\n",
        "\n",
        "\n",
        "# PUT THE HIGH COEFFICIENT INTO DICT\n",
        "threshold = 0.3\n",
        "\n",
        "\n",
        "high_coef = features_importance[features_importance['coefficient'] >= threshold].sort_values(by='coefficient', ascending=False) # SORT IT DESCENDING\n",
        "high_coef = high_coef.reset_index(drop=True)\n",
        "\n",
        "for i, feature in enumerate(high_coef['feature']):\n",
        "    # GIVE VALUE/POINT ACCORDING TO THEIR WEIGHT\n",
        "    useful_feature[feature] = useful_feature.get(feature, 0) + high_coef['coefficient'][i] # COEFFICIENTS WITH HIGHER WEIGHT WILL GET MORE POINTS/VALUES\n",
        "\n",
        "# DISPLAY FEATURE THAT HAS VALUE CLOSE TO ZERO\n",
        "zero"
      ],
      "metadata": {
        "trusted": true,
        "execution": {
          "iopub.status.busy": "2025-01-29T06:40:26.046359Z",
          "iopub.execute_input": "2025-01-29T06:40:26.047014Z",
          "iopub.status.idle": "2025-01-29T06:40:26.067024Z",
          "shell.execute_reply.started": "2025-01-29T06:40:26.046948Z",
          "shell.execute_reply": "2025-01-29T06:40:26.066058Z"
        },
        "id": "MzbY5SBIlJBc"
      },
      "outputs": [],
      "execution_count": null
    },
    {
      "cell_type": "markdown",
      "source": [
        "## LightGBM"
      ],
      "metadata": {
        "id": "BT2QmXKElJBd"
      }
    },
    {
      "cell_type": "code",
      "source": [
        "\n",
        "\n",
        "# FUNCTION TO FIND BEST HYPERPARAMETER\n",
        "def lgbm_objective(trial):\n",
        "\n",
        "    # SET HYPERPARAMETERS VALUE RANGE\n",
        "    num_leaves        = trial.suggest_int('num_leaves',20,100)\n",
        "    max_depth         = trial.suggest_int('max_depth', 2, 15)\n",
        "    learning_rate     = trial.suggest_float('learning_rate', 0.001, 0.8)\n",
        "    n_estimators      = trial.suggest_int('n_estimators', 100, 2000)\n",
        "    min_child_weight  = trial.suggest_int('min_child_weight', 0.5, 5)\n",
        "    min_child_samples = trial.suggest_int('min_child_samples', 7, 20)\n",
        "    subsample         = trial.suggest_uniform('subsample', 0.4, 1)\n",
        "    reg_alpha         = trial.suggest_float('reg_alpha', 0.02, 15)\n",
        "    reg_lambda        = trial.suggest_float('reg_lambda', 0.02, 15)\n",
        "\n",
        "    # DECLARATE LGBM MODEL\n",
        "    lgbm = lightgbm.LGBMRegressor(boosting_type    ='gbdt',\n",
        "                             num_leaves       = num_leaves,\n",
        "                             max_depth        = max_depth,\n",
        "                             learning_rate    = learning_rate,\n",
        "                             n_estimators     = n_estimators,\n",
        "                             min_child_weight = min_child_weight,\n",
        "                             min_child_samples= min_child_samples,\n",
        "                             subsample        = subsample,\n",
        "                             reg_alpha        = reg_alpha,\n",
        "                             reg_lambda       = reg_lambda)\n",
        "\n",
        "    # METRICS EVALUATION\n",
        "    score = cross_val_score(estimator= lgbm, X= x_train, y= y_train, scoring='neg_root_mean_squared_error')\n",
        "\n",
        "    return score.mean()\n",
        "\n",
        "# BUILD AND FIT OPTUNA\n",
        "#study = optuna.create_study(direction='maximize')\n",
        "#study.optimize(func= lgbm_objective, n_trials=200)\n",
        "\n",
        "#print(f'Best Params : {study.best_params}')\n",
        "#print(f'Best Scores : {study.best_value}')\n",
        "\n",
        "# BEST PARAMS\n",
        "#lgbm_best_params = study.best_params\n",
        "\n",
        "'''\n",
        "Best Params : {'num_leaves': 92, 'max_depth': 2, 'learning_rate': 0.059514026241983445, 'n_estimators': 1524, 'min_child_weight': 3, 'min_child_samples': 17, 'subsample': 0.48984666486323647, 'reg_alpha': 0.033788563133902494, 'reg_lambda': 4.040907598613931}\n",
        "Best Scores : -0.1249959965787046\n",
        "'''"
      ],
      "metadata": {
        "trusted": true,
        "execution": {
          "iopub.status.busy": "2025-01-29T06:40:26.068542Z",
          "iopub.execute_input": "2025-01-29T06:40:26.069093Z",
          "iopub.status.idle": "2025-01-29T06:40:26.087827Z",
          "shell.execute_reply.started": "2025-01-29T06:40:26.069054Z",
          "shell.execute_reply": "2025-01-29T06:40:26.08669Z"
        },
        "id": "3vIhYYpClJBe"
      },
      "outputs": [],
      "execution_count": null
    },
    {
      "cell_type": "code",
      "source": [
        "%%capture\n",
        "# BUILD AND FIT MODEL WITH BEST HYPERPARAMETERS\n",
        "\n",
        "lgbm_best_params = {'num_leaves': 92, 'max_depth': 2, 'learning_rate': 0.059514026241983445, 'n_estimators': 1524, 'min_child_weight': 3, 'min_child_samples': 17,\n",
        "                    'subsample': 0.48984666486323647, 'reg_alpha': 0.033788563133902494, 'reg_lambda': 4.040907598613931}\n",
        "\n",
        "lgbm = lightgbm.LGBMRegressor(random_state=12, **lgbm_best_params)\n",
        "lgbm.fit(x_train, y_train)"
      ],
      "metadata": {
        "trusted": true,
        "execution": {
          "iopub.status.busy": "2025-01-29T06:40:26.089441Z",
          "iopub.execute_input": "2025-01-29T06:40:26.089897Z",
          "iopub.status.idle": "2025-01-29T06:40:26.641631Z",
          "shell.execute_reply.started": "2025-01-29T06:40:26.089842Z",
          "shell.execute_reply": "2025-01-29T06:40:26.6407Z"
        },
        "id": "nt-dZqowlJBf"
      },
      "outputs": [],
      "execution_count": null
    },
    {
      "cell_type": "markdown",
      "source": [
        "### Feature Importance for LGBM"
      ],
      "metadata": {
        "id": "A8B9kbg2lJBf"
      }
    },
    {
      "cell_type": "code",
      "source": [
        "# SHOW FEATURE IMPORTANCES\n",
        "\n",
        "plt.figure(figsize=(12,50))\n",
        "\n",
        "features_importance = pd.DataFrame({\n",
        "    'feature' : lgbm.feature_names_in_,\n",
        "    'coefficient' : lgbm.feature_importances_\n",
        "})\n",
        "\n",
        "features_importance = features_importance.sort_values(by='coefficient', ascending= True)\n",
        "plt.barh(y= features_importance['feature'], width= features_importance['coefficient'], color='skyblue')"
      ],
      "metadata": {
        "trusted": true,
        "execution": {
          "iopub.status.busy": "2025-01-29T06:40:26.642914Z",
          "iopub.execute_input": "2025-01-29T06:40:26.643342Z",
          "iopub.status.idle": "2025-01-29T06:40:29.711274Z",
          "shell.execute_reply.started": "2025-01-29T06:40:26.643302Z",
          "shell.execute_reply": "2025-01-29T06:40:29.710073Z"
        },
        "id": "EDzQtz00lJBg"
      },
      "outputs": [],
      "execution_count": null
    },
    {
      "cell_type": "markdown",
      "source": [
        "display coefficient that very close to 0"
      ],
      "metadata": {
        "id": "RG5W3MtWlJBg"
      }
    },
    {
      "cell_type": "code",
      "source": [
        "zero = features_importance[features_importance['coefficient'] == 0 ].sort_values(by='feature', ascending=True) # ALL FEATURE THAT WEIGHT < 0.001\n",
        "\n",
        "\n",
        "# PUT CLOSE TO ZERO COEF INTO DICT\n",
        "for feature in zero['feature']:\n",
        "    useless_feature[feature] = useless_feature.get(feature,0) + 1\n",
        "\n",
        "\n",
        "\n",
        "# PUT THE HIGH COEFFICIENT INTO DICT\n",
        "threshold = 1\n",
        "\n",
        "\n",
        "high_coef = features_importance[features_importance['coefficient'] >= threshold].sort_values(by='coefficient', ascending=False) # SORT IT DESCENDING\n",
        "high_coef = high_coef.reset_index(drop=True)\n",
        "\n",
        "for i, feature in enumerate(high_coef['feature']):\n",
        "    # GIVE VALUE/POINT ACCORDING TO THEIR WEIGHT\n",
        "    useful_feature[feature] = useful_feature.get(feature, 0) + high_coef['coefficient'][i] # COEFFICIENTS WITH HIGHER WEIGHT WILL GET MORE POINTS/VALUES\n",
        "\n",
        "# DISPLAY FEATURE THAT HAS VALUE CLOSE TO ZERO\n",
        "zero"
      ],
      "metadata": {
        "trusted": true,
        "execution": {
          "iopub.status.busy": "2025-01-29T06:40:29.71265Z",
          "iopub.execute_input": "2025-01-29T06:40:29.713101Z",
          "iopub.status.idle": "2025-01-29T06:40:29.735774Z",
          "shell.execute_reply.started": "2025-01-29T06:40:29.71305Z",
          "shell.execute_reply": "2025-01-29T06:40:29.734685Z"
        },
        "id": "mNwlE2DOlJBh"
      },
      "outputs": [],
      "execution_count": null
    },
    {
      "cell_type": "markdown",
      "source": [
        "## Create Stacking Regressor"
      ],
      "metadata": {
        "id": "ScHoucyilJBi"
      }
    },
    {
      "cell_type": "code",
      "source": [
        "%%capture\n",
        "cv_fold = KFold(n_splits= 10, shuffle=True, random_state=12)\n",
        "\n",
        "# CREATE STACKING REGRESSOR\n",
        "model = StackingRegressor(\n",
        "    estimators=[\n",
        "        ('Ridge', ridge),\n",
        "        ('Lasso', lasso),\n",
        "        #('LinearRegression', linear),       # USING LINEAR REGRESSION CAUSE A MODEL GET WORSE\n",
        "        ('GradientBoostingRegressor', gbm),\n",
        "        ('xgb', xgboost),\n",
        "        ('lightgbm', lgbm),\n",
        "        ('catboost', cat)\n",
        "    ],\n",
        "        cv=cv_fold\n",
        ")\n",
        "\n",
        "model.fit(x_train, y_train)"
      ],
      "metadata": {
        "trusted": true,
        "execution": {
          "iopub.status.busy": "2025-01-29T06:40:29.737091Z",
          "iopub.execute_input": "2025-01-29T06:40:29.737531Z",
          "iopub.status.idle": "2025-01-29T06:42:08.952843Z",
          "shell.execute_reply.started": "2025-01-29T06:40:29.737488Z",
          "shell.execute_reply": "2025-01-29T06:42:08.951829Z"
        },
        "id": "nS55KWr6lJBi"
      },
      "outputs": [],
      "execution_count": null
    },
    {
      "cell_type": "markdown",
      "source": [
        "OK, now let's visualize which model has the bigger contribution for Meta-Model"
      ],
      "metadata": {
        "id": "5nmrkhmylJBj"
      }
    },
    {
      "cell_type": "code",
      "source": [
        "import matplotlib.pyplot as plt\n",
        "\n",
        "# BASE MODEL WE TRAINED\n",
        "base_models = [ 'Ridge', 'Lasso', 'GBM', 'XGBOOST', 'LGBM', 'CatBoost']\n",
        "\n",
        "meta_model = model.final_estimator_\n",
        "coefficients = meta_model.coef_\n",
        "\n",
        "plt.figure(figsize=(10,6))\n",
        "plt.bar(base_models, coefficients)\n",
        "plt.xlabel('Base Models')\n",
        "plt.ylabel('Koefisien')\n",
        "plt.title('Most Important Base-Model')\n",
        "plt.show()"
      ],
      "metadata": {
        "trusted": true,
        "execution": {
          "iopub.status.busy": "2025-01-29T06:42:08.954001Z",
          "iopub.execute_input": "2025-01-29T06:42:08.954414Z",
          "iopub.status.idle": "2025-01-29T06:42:09.147571Z",
          "shell.execute_reply.started": "2025-01-29T06:42:08.954372Z",
          "shell.execute_reply": "2025-01-29T06:42:09.146457Z"
        },
        "id": "zYT7LxzelJBj"
      },
      "outputs": [],
      "execution_count": null
    },
    {
      "cell_type": "markdown",
      "source": [
        "last thing , we visualize the most useful feature and the most uselesss feature for our model"
      ],
      "metadata": {
        "id": "LaPTIeErlJBk"
      }
    },
    {
      "cell_type": "code",
      "source": [
        "\n",
        "top_50_useless = dict(sorted(useless_feature.items(), key=lambda item: item[1], reverse=True)[:50])\n",
        "top_20_useful  = dict(sorted(useful_feature.items(), key=lambda item: item[1], reverse=True)[:20])\n",
        "\n",
        "\n",
        "plt.figure(figsize=(20,5))\n",
        "sns.barplot(x= list(top_50_useless.keys()), y= list(top_50_useless.values()), palette='inferno')\n",
        "plt.title('Top 50 Useless Feature')\n",
        "plt.xticks(rotation=90)\n",
        "plt.show()\n",
        "\n",
        "plt.figure(figsize=(12,5))\n",
        "sns.barplot(x= list(top_20_useful.keys()), y= list(top_20_useful.values()), palette='plasma')\n",
        "plt.title('Top 20 Useful Feature')\n",
        "plt.xticks(rotation=90)\n",
        "plt.show()"
      ],
      "metadata": {
        "trusted": true,
        "execution": {
          "iopub.status.busy": "2025-01-29T06:42:09.148672Z",
          "iopub.execute_input": "2025-01-29T06:42:09.149076Z",
          "iopub.status.idle": "2025-01-29T06:42:10.115283Z",
          "shell.execute_reply.started": "2025-01-29T06:42:09.14904Z",
          "shell.execute_reply": "2025-01-29T06:42:10.114148Z"
        },
        "id": "Sus7ZXPblJBl"
      },
      "outputs": [],
      "execution_count": null
    },
    {
      "cell_type": "markdown",
      "source": [
        "There are many columns/features with the label 'Unknown' which are useless, such as 'MSZoning_Unknown' , 'BsmtCond_Unknown' , 'BsmtExposure_Unknown', 'BsmtFinType1_Unknown', 'BsmtFinType2_Unknown', 'BsmtQual_Unknown' . This shows that filling null values ​​with 'Unknown' values ​​(in categorical data) is very bad."
      ],
      "metadata": {
        "id": "BoxkKqz7lJBl"
      }
    },
    {
      "cell_type": "markdown",
      "source": [
        "in the future i want to improve it and do retraining with the best selected features"
      ],
      "metadata": {
        "id": "y2dVzJcGlJBm"
      }
    },
    {
      "cell_type": "code",
      "source": [
        "# PREDICT MODEL AND SAVE SUBMISSION\n",
        "\n",
        "y_pred = np.expm1(model.predict(x_test))\n",
        "\n",
        "submission = pd.read_table(r'/kaggle/input/home-data-for-ml-course/sample_submission.csv', delimiter=',')   # LOAD SAMPLE SUBMISSION CSV\n",
        "\n",
        "output = pd.DataFrame(y_pred, columns=['SalePrice'])\n",
        "output = pd.concat([submission.iloc[:,0] , output], axis=1)\n",
        "output.rename(columns={output.columns[0] : 'Id'}, inplace=True)\n",
        "\n",
        "# SAVE SUBMISSION\n",
        "output.to_csv('submission.csv', index=False)"
      ],
      "metadata": {
        "trusted": true,
        "execution": {
          "iopub.status.busy": "2025-01-29T06:42:10.116403Z",
          "iopub.execute_input": "2025-01-29T06:42:10.116759Z",
          "iopub.status.idle": "2025-01-29T06:42:10.31567Z",
          "shell.execute_reply.started": "2025-01-29T06:42:10.116728Z",
          "shell.execute_reply": "2025-01-29T06:42:10.314564Z"
        },
        "id": "O4iyauublJBm"
      },
      "outputs": [],
      "execution_count": null
    },
    {
      "cell_type": "markdown",
      "source": [
        "<h4><strong style='color:skyblue;'> Thank you for reading this notebook till the end. Please upvote if you find it helpful. Thank You :)"
      ],
      "metadata": {
        "id": "qoBoz0fblJBm"
      }
    }
  ]
}